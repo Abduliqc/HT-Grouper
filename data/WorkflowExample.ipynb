{
 "cells": [
  {
   "cell_type": "code",
   "execution_count": 1,
   "id": "0525944b",
   "metadata": {},
   "outputs": [
    {
     "data": {
      "text/plain": [
       "{'qiskit-terra': '0.24.0', 'qiskit-aer': '0.12.0', 'qiskit-ignis': '0.4.0', 'qiskit-ibmq-provider': None, 'qiskit': '0.20.1', 'qiskit-nature': None, 'qiskit-finance': None, 'qiskit-optimization': None, 'qiskit-machine-learning': None}"
      ]
     },
     "execution_count": 1,
     "metadata": {},
     "output_type": "execute_result"
    }
   ],
   "source": [
    "import qiskit\n",
    "qiskit.__qiskit_version__"
   ]
  },
  {
   "attachments": {},
   "cell_type": "markdown",
   "id": "b37bf410",
   "metadata": {},
   "source": [
    "# Workflow Example\n",
    "\n",
    "Note: This file should be contained in the `{ROOT}/data/` folder.\n",
    "\n",
    "You won't need to write any C++ code. The entire communication with the C++ program will work through a simple configuration `.txt` file. "
   ]
  },
  {
   "attachments": {},
   "cell_type": "markdown",
   "id": "f753c01b",
   "metadata": {},
   "source": [
    "## Step 1: Prepare Hamiltonian\n",
    "\n",
    "First we need to write the Hamiltonian to a `.json` file that the C++ program can read. "
   ]
  },
  {
   "cell_type": "code",
   "execution_count": 1,
   "id": "0ecf2c5b",
   "metadata": {},
   "outputs": [],
   "source": [
    "from ht_grouper_helpers import reverse_paulis, write_hamiltonian_to_json\n",
    "\n",
    "ham = {\"IIIIIIII\": -2.624579060173102,  \"IZIIIIII\": -0.07904417087465629,  \"IIZIIIII\": 0.06963766679823809,  \"IIIZIIII\": 0.1813649242546771,  \"IZIZIIII\": 0.08454049626310602,  \"IIZZIIII\": 0.08792660899667015,  \"IZZZIIII\": 0.07761988828992306,  \"ZIZIZIII\": 0.0794386006168131,  \"ZZZIZIII\": -0.3346123458132604,  \"ZZIZZIII\": 0.08982499647657266,  \"ZZZZZIII\": 0.10647091296616065,  \"IIIIIZII\": -0.07904417087465622,  \"IZIIIZII\": 0.1168514042959076,  \"IIIZIZII\": 0.11149831432137883,  \"IIZZIZII\": 0.11194107542768723,  \"ZZZIZZII\": 0.12005437336308761,  \"IIIIIIZI\": 0.06963766679823809,  \"IIIIZIZI\": 0.0794386006168131,  \"ZZZIIZZI\": 0.14526192015947448,  \"IIIIZZZI\": -0.33461234581326055,  \"IZIIZZZI\": 0.12005437336308761,  \"IIIZZZZI\": 0.13073850353772143,  \"IIZZZZZI\": 0.11598612054758822,  \"IIIIIIIZ\": 0.18136492425467743,  \"IZIIIIIZ\": 0.11149831432137883,  \"IIIZIIIZ\": 0.12432167547296145,  \"IIZZIIIZ\": 0.10898280176407836,  \"ZZZIZIIZ\": 0.13073850353772143,  \"IIIIIZIZ\": 0.08454049626310602,  \"IIIIZZIZ\": 0.08982499647657266,  \"IIIIIIZZ\": 0.08792660899666997,  \"IZIIIIZZ\": 0.11194107542768723,  \"IIIZIIZZ\": 0.10898280176407836,  \"IIZZIIZZ\": 0.11340652637318277,  \"ZZZIZIZZ\": 0.11598612054758822,  \"IIIIIZZZ\": 0.07761988828992306,  \"IIIIZZZZ\": 0.10647091296616065,  \"IIXIIIII\": 0.02554524310593115,  \"IZXIIIII\": -0.01726459683389079,  \"IZXZIIII\": 0.010290722790561629,  \"ZIXIZIII\": -0.010290722790561629,  \"ZIXZZIII\": 0.01726459683389079,  \"ZZXZZIII\": -0.02554524310593115,  \"IZXIIZII\": 0.0007033107955335648,  \"ZIXZZZII\": -0.0007033107955335648,  \"ZIXZIZZI\": -0.023384612774806107,  \"IZXIZZZI\": 0.023384612774806107,  \"IZXIIIIZ\": 0.021062076540351606,  \"ZIXZZIIZ\": -0.021062076540351606,  \"IZXIIIZZ\": 0.001013869592018545,  \"ZIXZZIZZ\": -0.001013869592018545,  \"IXIXIIII\": -0.02441822842470195,  \"IXZXIIII\": 0.013029985419546652,  \"IYZYIIII\": -0.01138824300515531,  \"ZXIXZIII\": -0.02441822842470195,  \"ZXZXZIII\": 0.013029985419546652,  \"ZYZYZIII\": -0.01138824300515531,  \"IXXXIIII\": -0.022049003978125037,  \"IYYXIIII\": -0.00556065318530374,  \"IYXYIIII\": -0.022049003978125037,  \"IXYYIIII\": 0.00556065318530374,  \"ZXXXZIII\": 0.011234312732252972,  \"ZYXYZIII\": 0.011234312732252972,  \"IYYXIZII\": -0.0017153824135075152,  \"IXYYIZII\": 0.0017153824135075152,  \"IYYXZZZI\": -0.021476995247468093,  \"IXYYZZZI\": 0.021476995247468093,  \"IYYXIIIZ\": -0.020391532177805285,  \"IXYYIIIZ\": 0.020391532177805285,  \"IYYXIIZZ\": 0.002451500187231129,  \"IXYYIIZZ\": -0.002451500187231129,  \"IXIIIXII\": 0.040615772746274495,  \"ZXZIZXII\": -0.040615772746274495,  \"ZXZIIXZI\": 0.040615772746274495,  \"IXIIZXZI\": -0.040615772746274495,  \"IXXIIXII\": 0.02484193231039758,  \"IYYZIXII\": 0.02484193231039758,  \"IXXIZXZI\": -0.02484193231039758,  \"IYYZZXZI\": -0.02484193231039758,  \"IIIXIXII\": -0.037658003841522666,  \"IIZXIXII\": 0.037658003841522666,  \"IIIXZXZI\": 0.037658003841522666,  \"IIZXZXZI\": -0.037658003841522666,  \"IZYYIXII\": -0.010242682515215124,  \"ZIXXZXII\": -0.010242682515215124,  \"ZIXXIXZI\": 0.010242682515215124,  \"IZYYZXZI\": 0.010242682515215124,  \"IIIIIIXI\": 0.02554524310593115,  \"IIIIZIXI\": -0.010290722790561629,  \"IIIIIZXI\": -0.01726459683389078,  \"IZIIIZXI\": 0.0007033107955335648,  \"IIIZIZXI\": 0.021062076540351606,  \"IIZZIZXI\": 0.001013869592018545,\n",
    "       \"ZZZIZZXI\": 0.023384612774806107,  \"ZZZIIIXZ\": -0.023384612774806107,  \"IIIIZIXZ\": 0.01726459683389078,  \"IZIIZIXZ\": -0.0007033107955335648,  \"IIIZZIXZ\": -0.021062076540351606,  \"IIZZZIXZ\": -0.001013869592018545,  \"IIIIIZXZ\": 0.010290722790561629,  \"IIIIZZXZ\": -0.02554524310593115,  \"IZXIIZXI\": 0.02616112407101557,  \"ZIXZZZXI\": -0.02616112407101557,  \"ZIXZIIXZ\": 0.02616112407101557,  \"IZXIZIXZ\": -0.02616112407101557,  \"IYYXIZXI\": -0.024628018421976018,  \"IXYYIZXI\": 0.024628018421976018,  \"IYYXZIXZ\": 0.024628018421976018,  \"IXYYZIXZ\": -0.024628018421976018,  \"IXIIIXXI\": 0.02484193231039758,  \"ZXZIZXXI\": -0.02484193231039758,  \"IXIIIYYZ\": 0.02484193231039758,  \"ZXZIZYYZ\": -0.02484193231039758,  \"IXXIIXXI\": 0.03432118713776418,  \"IYYZIXXI\": 0.03432118713776418,  \"IXXIIYYZ\": 0.03432118713776418,  \"IYYZIYYZ\": 0.03432118713776418,  \"IIIXIXXI\": -0.024500504165356166,  \"IIZXIXXI\": 0.024500504165356166,  \"IIIXIYYZ\": -0.024500504165356166,  \"IIZXIYYZ\": 0.024500504165356166,  \"IZYYIXXI\": 0.013239775416820712,  \"ZIXXZXXI\": 0.013239775416820712,  \"IZYYIYYZ\": 0.013239775416820712,  \"ZIXXZYYZ\": 0.013239775416820712,  \"IXIIIIIX\": -0.037658003841522666,  \"ZXZIZIIX\": 0.037658003841522666,  \"IXIIIIZX\": 0.037658003841522666,  \"ZXZIZIZX\": -0.037658003841522666,  \"IXXIIIIX\": -0.02450050416535616,  \"IYYZIIIX\": -0.02450050416535616,  \"IXXIIIZX\": 0.02450050416535616,  \"IYYZIIZX\": 0.02450050416535616,  \"IIIXIIIX\": 0.03934513496584029,  \"IIZXIIIX\": -0.03934513496584029,  \"IIIXIIZX\": -0.03934513496584029,  \"IIZXIIZX\": 0.03934513496584029,  \"IZYYIIIX\": 0.01077135374978998,  \"ZIXXZIIX\": 0.01077135374978998,  \"IZYYIIZX\": -0.01077135374978998,  \"ZIXXZIZX\": -0.01077135374978998,  \"IIIIIXIX\": -0.02441822842470195,  \"IIIIZXIX\": -0.02441822842470195,  \"IIIIIXZX\": 0.013029985419546652,  \"IIIIZXZX\": 0.013029985419546652,  \"IIIIIYZY\": -0.01138824300515531,  \"IIIIZYZY\": -0.01138824300515531,  \"ZXZIIIXX\": 0.010242682515215124,  \"IXIIZIXX\": -0.010242682515215124,  \"IXIIIZYY\": -0.010242682515215124,  \"ZXZIZZYY\": 0.010242682515215124,  \"IXXIZIXX\": 0.013239775416820712,  \"IYYZZIXX\": 0.013239775416820712,  \"IXXIIZYY\": 0.013239775416820712,  \"IYYZIZYY\": 0.013239775416820712,  \"IIIXZIXX\": 0.01077135374978998,  \"IIZXZIXX\": -0.01077135374978998,  \"IIIXIZYY\": 0.01077135374978998,  \"IIZXIZYY\": -0.01077135374978998,  \"ZIXXIIXX\": 0.024267590571560763,  \"IZYYZIXX\": 0.024267590571560763,  \"IZYYIZYY\": 0.024267590571560763,  \"ZIXXZZYY\": 0.024267590571560763,  \"IIIIIXXX\": -0.022049003978125037,  \"IIIIZXXX\": 0.011234312732252972,  \"IIIIIYYX\": -0.005560653185303723,  \"IZIIIYYX\": -0.0017153824135075152,  \"IIIZIYYX\": -0.020391532177805285,  \"IIZZIYYX\": 0.002451500187231129,  \"ZZZIZYYX\": -0.021476995247468093,  \"IIIIIYXY\": -0.022049003978125037,  \"IIIIZYXY\": 0.011234312732252972,  \"IIIIIXYY\": 0.005560653185303723,  \"IZIIIXYY\": 0.0017153824135075152,  \"IIIZIXYY\": 0.020391532177805285,  \"IIZZIXYY\": -0.002451500187231129,  \"ZZZIZXYY\": 0.021476995247468093,  \"IZXIIYYX\": -0.024628018421976018,  \"ZIXZZYYX\": 0.024628018421976018,  \"IZXIIXYY\": 0.024628018421976018,  \"ZIXZZXYY\": -0.024628018421976018,  \"IYYXIYYX\": 0.026957818058272826,  \"IXYYIYYX\": -0.026957818058272826,  \"IYYXIXYY\": -0.026957818058272826,  \"IXYYIXYY\": 0.026957818058272826}\n",
    "ham = reverse_paulis(ham)\n",
    "write_hamiltonian_to_json(\"hamiltonians/examples/H4_bk.json\", ham)"
   ]
  },
  {
   "attachments": {},
   "cell_type": "markdown",
   "id": "7a14796f",
   "metadata": {},
   "source": [
    "Note: Here, Pauli strings are interpreted such that the **first Pauli character** corresponds to the **first qubit** etc. \n",
    "\n",
    "This is different to ``qiskit.quantum_info.Pauli`` where the first character corresponds to the *last* qubit. "
   ]
  },
  {
   "attachments": {},
   "cell_type": "markdown",
   "id": "c40cc9ac",
   "metadata": {},
   "source": [
    "## Step 2: Configure job (not in this notebook)\n",
    "\n",
    "Open `{ROOT}/data/config.txt` and specify the file paths:\n",
    "\n",
    "- **filename** (input path for Hamiltonian as written by `write_hamiltonian_to_json()`), here: \"hamiltonians/examples/H4_bk.json\"\n",
    "- **outfilename** (output path for grouping), here: \"grouping_result/examples/H4_bk_lin.json\" \n",
    "\n",
    "You can specify the assumed hardware connectivity to which the readout circuits shall be tailored (default is linear).\n",
    "- **connectivity** (input path for file containing adjacency matrix), here \"connectivities/default_connectivity.txt\"\n"
   ]
  },
  {
   "attachments": {},
   "cell_type": "markdown",
   "id": "e409a89f",
   "metadata": {},
   "source": [
    "### Example for the file ``config.txt``\n",
    "```\n",
    "# Configure your problem here.\n",
    "\n",
    "# The filenames may be absolute: e.g., C:\\Users\\me\\Desktop\\myhamiltonian.txt)\n",
    "# or relative to the data/ directory in the repository: e.g., ../myfolder/myhamiltonian.txt\n",
    "\n",
    "filename = hamiltonians/examples/H4_bk.json                 # where to read the hamiltonian data from \n",
    "outfilename = grouping_result/examples/H4_bk_example.json   # where to output the grouping\n",
    "connectivity = connectivities/default_connectivity.txt      # which connectivity file to use\n",
    "\n",
    "numGraphs = 100000000         # Hyperparameter: Maximum number of random subgraphs\n",
    "maxEdgeCount = 1000           # Hyperparameter: Maximum number of edges for subgraphs\n",
    "sortGraphsByEdgeCount = true  # Sort possible subgraphs by edge count so graphs with lower edge count are preferred\n",
    "\n",
    "numThreads = 8                # option for multithreading\n",
    "```"
   ]
  },
  {
   "attachments": {},
   "cell_type": "markdown",
   "id": "d3d253e4",
   "metadata": {},
   "source": [
    "## Step 3: Run HT-Grouper (not in this notebook)\n",
    "\n",
    "Open the project (located at `{ROOT}/build/HT-Grouper.sln`).\n",
    "\n",
    "Run the project by pressing ``F5``.\n",
    "\n",
    "Recommendation: Change the configuration from **Debug** to **Release** (as described in the full installation guide) at the top option bar to speed up the computation."
   ]
  },
  {
   "attachments": {},
   "cell_type": "markdown",
   "id": "dbdb48b5",
   "metadata": {},
   "source": [
    "## Step 4: Analyze expected performance of HT-grouping result\n",
    "\n",
    "Now its time to load the grouping that the C++ program generated into Python."
   ]
  },
  {
   "cell_type": "code",
   "execution_count": 2,
   "id": "cc21791a",
   "metadata": {
    "scrolled": false
   },
   "outputs": [
    {
     "name": "stdout",
     "output_type": "stream",
     "text": [
      "Number of jointly-HT-measurable groups: 9\n",
      "Size distribution of groups: [37, 24, 22, 20, 26, 12, 16, 16, 12]\n",
      "Estimated shot reduction: 22.498713400246537 (HT over individual Pauli measurements) \n",
      "Estimated shot reduction: 1.905520342148904 (HT over tensor product bases) \n",
      "Estimated shot reduction: 1.8922168946842948 (GC over tensor product bases) \n"
     ]
    }
   ],
   "source": [
    "from ht_grouper_helpers import read_grouping_from_json, generate_readout_circuits\n",
    "from sorted_insertion import R_hat, sorted_insertion, sorted_insertion_qwc\n",
    "\n",
    "ht_grouping = read_grouping_from_json(\"grouping_result/examples/H4_bk_example.json\")\n",
    "readout_circuits = generate_readout_circuits(ht_grouping)\n",
    "\n",
    "group_sizes = []\n",
    "\n",
    "for index, collection in enumerate(ht_grouping):\n",
    "    paulis = collection[\"operators\"]\n",
    "    group_sizes.append(len(paulis))\n",
    "\n",
    "shot_reduction_ht = R_hat(ht_grouping, ham)  # as defined in https://doi.org/10.22331/q-2021-01-20-385\n",
    "\n",
    "qwc_grouping = sorted_insertion_qwc(ham)\n",
    "shot_reduction_tpb = R_hat(qwc_grouping, ham)\n",
    "\n",
    "gc_grouping = sorted_insertion(ham)\n",
    "shot_reduction_gc = R_hat(gc_grouping, ham)\n",
    "\n",
    "\n",
    "print(f\"Number of jointly-HT-measurable groups: {len(ht_grouping)}\")\n",
    "print(f\"Size distribution of groups: {group_sizes}\")\n",
    "print(f\"Estimated shot reduction: {shot_reduction_ht} (HT over individual Pauli measurements) \")\n",
    "print(f\"Estimated shot reduction: {shot_reduction_ht/shot_reduction_tpb} (HT over tensor product bases) \")\n",
    "print(f\"Estimated shot reduction: {shot_reduction_gc/shot_reduction_tpb} (GC over tensor product bases) \")\n"
   ]
  },
  {
   "attachments": {},
   "cell_type": "markdown",
   "id": "5f6745a0",
   "metadata": {},
   "source": [
    "For this example, our HT-grouper outperforms *Sorted Insertion* (general commutativity).\n",
    "\n",
    "Note that this is a coincidence. In general, $\\hat{R}_\\mathrm{GC}$ should be regarded as an approximate upper bound to $\\hat{R}_\\mathrm{HT}$."
   ]
  },
  {
   "cell_type": "code",
   "execution_count": 14,
   "id": "8562d94e",
   "metadata": {
    "scrolled": true
   },
   "outputs": [
    {
     "name": "stdout",
     "output_type": "stream",
     "text": [
      "Collection 0:\n",
      "Number of measurable Pauli operators: 37\n",
      "Number of CZ-gates in readout circuit: 0\n",
      "     \n",
      "q_0: \n",
      "     \n",
      "q_1: \n",
      "     \n",
      "q_2: \n",
      "     \n",
      "q_3: \n",
      "     \n",
      "q_4: \n",
      "     \n",
      "q_5: \n",
      "     \n",
      "q_6: \n",
      "     \n",
      "q_7: \n",
      "     \n",
      "Collection 1:\n",
      "Number of measurable Pauli operators: 24\n",
      "Number of CZ-gates in readout circuit: 0\n",
      "     ┌───┐\n",
      "q_0: ┤ H ├\n",
      "     └───┘\n",
      "q_1: ─────\n",
      "     ┌───┐\n",
      "q_2: ┤ H ├\n",
      "     └───┘\n",
      "q_3: ─────\n",
      "     ┌───┐\n",
      "q_4: ┤ H ├\n",
      "     └───┘\n",
      "q_5: ─────\n",
      "     ┌───┐\n",
      "q_6: ┤ H ├\n",
      "     └───┘\n",
      "q_7: ─────\n",
      "          \n",
      "Collection 2:\n",
      "Number of measurable Pauli operators: 22\n",
      "Number of CZ-gates in readout circuit: 2\n",
      "     ┌───┐             \n",
      "q_0: ┤ H ├─────────────\n",
      "     ├───┤             \n",
      "q_1: ┤ H ├─────────────\n",
      "     ├───┤             \n",
      "q_2: ┤ H ├─────────────\n",
      "     └───┘             \n",
      "q_3: ──────────────────\n",
      "             ┌───┐     \n",
      "q_4: ──────■─┤ H ├─────\n",
      "     ┌───┐ │ └───┘┌───┐\n",
      "q_5: ┤ H ├─■───■──┤ H ├\n",
      "     └───┘     │  ├───┤\n",
      "q_6: ──────────■──┤ H ├\n",
      "                  └───┘\n",
      "q_7: ──────────────────\n",
      "                       \n",
      "Collection 3:\n",
      "Number of measurable Pauli operators: 20\n",
      "Number of CZ-gates in readout circuit: 4\n",
      "          ┌───┐          \n",
      "q_0: ──■──┤ H ├──────────\n",
      "       │  └───┘┌───┐     \n",
      "q_1: ──■────■──┤ H ├─────\n",
      "            │  ├───┤     \n",
      "q_2: ───────■──┤ H ├─────\n",
      "               └───┘     \n",
      "q_3: ────────────────────\n",
      "               ┌───┐     \n",
      "q_4: ───────■──┤ H ├─────\n",
      "     ┌───┐  │  └───┘┌───┐\n",
      "q_5: ┤ H ├──■────■──┤ H ├\n",
      "     └───┘       │  ├───┤\n",
      "q_6: ────────────■──┤ H ├\n",
      "                    └───┘\n",
      "q_7: ────────────────────\n",
      "                         \n",
      "Collection 4:\n",
      "Number of measurable Pauli operators: 26\n",
      "Number of CZ-gates in readout circuit: 4\n",
      "     ┌───┐   ┌───┐     \n",
      "q_0: ┤ H ├─■─┤ H ├─────\n",
      "     ├───┤ │ └───┘┌───┐\n",
      "q_1: ┤ H ├─■───■──┤ H ├\n",
      "     ├───┤     │  ├───┤\n",
      "q_2: ┤ H ├─────■──┤ H ├\n",
      "     └───┘        └───┘\n",
      "q_3: ──────────────────\n",
      "     ┌───┐   ┌───┐     \n",
      "q_4: ┤ H ├─■─┤ H ├─────\n",
      "     ├───┤ │ └───┘┌───┐\n",
      "q_5: ┤ H ├─■───■──┤ H ├\n",
      "     ├───┤     │  ├───┤\n",
      "q_6: ┤ H ├─────■──┤ H ├\n",
      "     └───┘        └───┘\n",
      "q_7: ──────────────────\n",
      "                       \n",
      "Collection 5:\n",
      "Number of measurable Pauli operators: 12\n",
      "Number of CZ-gates in readout circuit: 0\n",
      "          \n",
      "q_0: ─────\n",
      "          \n",
      "q_1: ─────\n",
      "          \n",
      "q_2: ─────\n",
      "          \n",
      "q_3: ─────\n",
      "          \n",
      "q_4: ─────\n",
      "     ┌───┐\n",
      "q_5: ┤ H ├\n",
      "     └───┘\n",
      "q_6: ─────\n",
      "          \n",
      "q_7: ─────\n",
      "          \n",
      "Collection 6:\n",
      "Number of measurable Pauli operators: 16\n",
      "Number of CZ-gates in readout circuit: 2\n",
      "             ┌───┐     \n",
      "q_0: ──────■─┤ H ├─────\n",
      "     ┌───┐ │ └───┘┌───┐\n",
      "q_1: ┤ H ├─■───■──┤ H ├\n",
      "     └───┘     │  ├───┤\n",
      "q_2: ──────────■──┤ H ├\n",
      "                  └───┘\n",
      "q_3: ──────────────────\n",
      "     ┌───┐             \n",
      "q_4: ┤ H ├─────────────\n",
      "     └───┘             \n",
      "q_5: ──────────────────\n",
      "     ┌───┐             \n",
      "q_6: ┤ H ├─────────────\n",
      "     └───┘             \n",
      "q_7: ──────────────────\n",
      "                       \n",
      "Collection 7:\n",
      "Number of measurable Pauli operators: 16\n",
      "Number of CZ-gates in readout circuit: 2\n",
      "     ┌───┐   ┌───┐     \n",
      "q_0: ┤ H ├─■─┤ H ├─────\n",
      "     ├───┤ │ └───┘┌───┐\n",
      "q_1: ┤ H ├─■───■──┤ H ├\n",
      "     ├───┤     │  ├───┤\n",
      "q_2: ┤ H ├─────■──┤ H ├\n",
      "     └───┘        └───┘\n",
      "q_3: ──────────────────\n",
      "                       \n",
      "q_4: ──────────────────\n",
      "                       \n",
      "q_5: ──────────────────\n",
      "                       \n",
      "q_6: ──────────────────\n",
      "                       \n",
      "q_7: ──────────────────\n",
      "                       \n",
      "Collection 8:\n",
      "Number of measurable Pauli operators: 12\n",
      "Number of CZ-gates in readout circuit: 2\n",
      "                       \n",
      "q_0: ──────────────────\n",
      "                       \n",
      "q_1: ──────────────────\n",
      "                       \n",
      "q_2: ──────────────────\n",
      "                       \n",
      "q_3: ──────────────────\n",
      "     ┌───┐   ┌───┐     \n",
      "q_4: ┤ H ├─■─┤ H ├─────\n",
      "     └───┘ │ └───┘┌───┐\n",
      "q_5: ──────■───■──┤ H ├\n",
      "     ┌───┐     │  ├───┤\n",
      "q_6: ┤ H ├─────■──┤ H ├\n",
      "     └───┘        └───┘\n",
      "q_7: ──────────────────\n",
      "                       \n"
     ]
    }
   ],
   "source": [
    "# print all readout circuits\n",
    "for index, (collection, circuit) in enumerate(zip(ht_grouping, readout_circuits)):\n",
    "    print(f'Collection {index}:')\n",
    "    paulis = collection[\"operators\"]\n",
    "    print(f'Number of measurable Pauli operators: {len(paulis)}')\n",
    "    cz_gates = collection[\"edges\"]\n",
    "    print(f'Number of CZ-gates in readout circuit: {len(cz_gates)}')\n",
    "  \n",
    "    ### uncomment to see the circuits\n",
    "    print(circuit)"
   ]
  },
  {
   "attachments": {},
   "cell_type": "markdown",
   "id": "aa817527",
   "metadata": {},
   "source": [
    "# Step 5: Run Quantum Circuit on QASM simulator\n",
    "\n",
    "Let's test the grouping on an examplary quantum state."
   ]
  },
  {
   "cell_type": "code",
   "execution_count": 3,
   "id": "665b75da",
   "metadata": {},
   "outputs": [
    {
     "name": "stdout",
     "output_type": "stream",
     "text": [
      "      ┌──────────────────────┐\n",
      "q_0: ─┤ U(0.75612,0.16782,0) ├\n",
      "      ├──────────────────────┤\n",
      "q_1: ─┤ U(0.85983,0.31234,0) ├\n",
      "      ├──────────────────────┤\n",
      "q_2: ─┤ U(0.68619,0.87217,0) ├\n",
      "     ┌┴──────────────────────┤\n",
      "q_3: ┤ U(0.15293,0.076059,0) ├\n",
      "     └┬──────────────────────┤\n",
      "q_4: ─┤ U(0.95351,0.30158,0) ├\n",
      "      ├──────────────────────┤\n",
      "q_5: ─┤ U(0.23784,0.58122,0) ├\n",
      "      ├──────────────────────┤\n",
      "q_6: ─┤ U(0.88213,0.37492,0) ├\n",
      "      ├──────────────────────┤\n",
      "q_7: ─┤ U(0.96443,0.17471,0) ├\n",
      "      └──────────────────────┘\n"
     ]
    }
   ],
   "source": [
    "from qiskit import QuantumCircuit\n",
    "import numpy as np\n",
    "np.random.seed(7353)\n",
    "\n",
    "n = 8  # number of qubits\n",
    "\n",
    "qc_prep = QuantumCircuit(n)\n",
    "for i in range(n):\n",
    "    qc_prep.u(*np.random.rand(2), 0, i)\n",
    "\n",
    "print(qc_prep)"
   ]
  },
  {
   "cell_type": "code",
   "execution_count": 4,
   "id": "1da511a5",
   "metadata": {
    "scrolled": false
   },
   "outputs": [],
   "source": [
    "from ht_grouper_helpers import HamiltonianExperiment\n",
    "\n",
    "# Prepare experiment, where state is prepared, and hamiltonian is measured via HT grouping\n",
    "experiment = HamiltonianExperiment(qc_prep, ht_grouping, ham)\n",
    "shots_per_circuit = 10000\n",
    "# note: in a real application use optimal shot alloction instead of equal shot allocation\n",
    "#       --> https://doi.org/10.22331/q-2021-01-20-385\n",
    "\n",
    "\n",
    "# Simulate the experiment with qiskit's 'qasm_simulator'\n",
    "job = experiment.simulate(shots=shots_per_circuit)"
   ]
  },
  {
   "attachments": {},
   "cell_type": "markdown",
   "id": "2489e413",
   "metadata": {},
   "source": [
    "## Step 6: Classical Postprocessing \n",
    "\n",
    "Compute expecation values from simulated or experimental data.\n"
   ]
  },
  {
   "cell_type": "code",
   "execution_count": 5,
   "id": "8df9a42d",
   "metadata": {
    "scrolled": false
   },
   "outputs": [
    {
     "data": {
      "text/plain": [
       "-1.6051233577153934"
      ]
     },
     "execution_count": 5,
     "metadata": {},
     "output_type": "execute_result"
    }
   ],
   "source": [
    "expectation_values = experiment.get_expectation_values(job)\n",
    "result = experiment.evaluate_energy(job)\n",
    "result"
   ]
  },
  {
   "attachments": {},
   "cell_type": "markdown",
   "id": "56797d4d",
   "metadata": {},
   "source": [
    "### Sanity check\n",
    "\n",
    "compare result with exact statevector expectation value"
   ]
  },
  {
   "cell_type": "code",
   "execution_count": 7,
   "id": "8f35d83a",
   "metadata": {
    "scrolled": false
   },
   "outputs": [
    {
     "name": "stdout",
     "output_type": "stream",
     "text": [
      "Exact expectation value for XZXZIIII:  0.17778785463420738\n",
      "Simu. expectation value for XZXZIIII:  0.1726 (includes statistical noise)\n"
     ]
    }
   ],
   "source": [
    "from qiskit import Aer, execute\n",
    "from qiskit.quantum_info import Pauli\n",
    "\n",
    "psi = np.array(execute(qc_prep, backend=Aer.get_backend('statevector_simulator')).result().get_statevector())\n",
    "\n",
    "p = 'XZXZIIII'\n",
    "p_qiskit = p[::-1] # undo qiskit qubit order reversion\n",
    "\n",
    "print(f'Exact expectation value for {p}: ', (np.conj(psi.T) @ Pauli(p_qiskit).to_matrix() @ psi).real)\n",
    "print(f'Simu. expectation value for {p}: ', expectation_values[p], '(includes statistical noise)')"
   ]
  },
  {
   "attachments": {},
   "cell_type": "markdown",
   "id": "1f943515",
   "metadata": {},
   "source": [
    "## Additional feature: Specify Hardware Connectivity using GraphStateVis\n",
    "\n",
    "You can use [GraphStateVis](https://graphvis.uber.space/?graph=16_900120048004024048120109124865) to draw the connectivity graph of your quantum chip and get its adjacency matrix.\n",
    "\n",
    "Example: 16-Qubit 4×4 grid\n",
    "https://graphvis.uber.space/?graph=16_900120048004024048120109124865\n",
    "\n",
    "\n",
    "After completion, copy the graph ID, e.g., '16_900120048004024048120109124865' and generate a connectivity file:\n",
    "\n",
    "<!-- ![image](https://github.com/Mc-Zen/HT-Grouper/blob/master/docs/images/cmake-build.png) -->"
   ]
  },
  {
   "cell_type": "code",
   "execution_count": 8,
   "id": "12add315",
   "metadata": {
    "scrolled": true
   },
   "outputs": [],
   "source": [
    "import numpy as np\n",
    "\n",
    "\n",
    "def write_connectivity_file_from_graph_id(graph_id, path):\n",
    "    n_str, hexID = graph_id.split(\"_\")\n",
    "    n = int(n_str)\n",
    "    bin_id = \"{:b}\".format(int(hexID, 16))\n",
    "    bin_id = '0'*((n - 1)*n // 2 - len(bin_id)) + bin_id\n",
    "\n",
    "    adj = np.zeros([n, n], dtype=int)\n",
    "    pos = 0\n",
    "    for i in range(n):\n",
    "        for j in range(i + 1, n):\n",
    "            adj[i][j] = adj[j][i] = int(bin_id[pos])\n",
    "            pos += 1\n",
    "    with open(path, 'w') as file:\n",
    "        for row in adj:\n",
    "            file.write(str(row)[1:-1] + '\\n')\n",
    "\n",
    "\n",
    "graphID = '16_900120048004024048120109124865'\n",
    "path = 'connectivities/grid16.txt'\n",
    "write_connectivity_file_from_graph_id(graphID, path)"
   ]
  }
 ],
 "metadata": {
  "kernelspec": {
   "display_name": "Python 3 (ipykernel)",
   "language": "python",
   "name": "python3"
  },
  "language_info": {
   "codemirror_mode": {
    "name": "ipython",
    "version": 3
   },
   "file_extension": ".py",
   "mimetype": "text/x-python",
   "name": "python",
   "nbconvert_exporter": "python",
   "pygments_lexer": "ipython3",
   "version": "3.10.5"
  }
 },
 "nbformat": 4,
 "nbformat_minor": 5
}
