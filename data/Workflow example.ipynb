{
 "cells": [
  {
   "cell_type": "code",
   "execution_count": 2,
   "id": "0525944b",
   "metadata": {},
   "outputs": [
    {
     "data": {
      "text/plain": [
       "{'qiskit-terra': '0.23.1', 'qiskit-aer': '0.11.2', 'qiskit-ignis': None, 'qiskit-ibmq-provider': '0.20.0', 'qiskit': '0.41.0', 'qiskit-nature': None, 'qiskit-finance': None, 'qiskit-optimization': None, 'qiskit-machine-learning': None}"
      ]
     },
     "execution_count": 2,
     "metadata": {},
     "output_type": "execute_result"
    }
   ],
   "source": [
    "import qiskit\n",
    "qiskit.__qiskit_version__"
   ]
  },
  {
   "cell_type": "markdown",
   "id": "b37bf410",
   "metadata": {},
   "source": [
    "# Workflow Example\n",
    "\n",
    "This file should be contained in the `{ROOT}/data/` folder.\n",
    "\n"
   ]
  },
  {
   "cell_type": "markdown",
   "id": "f753c01b",
   "metadata": {},
   "source": [
    "## Step 1: Prepare Hamiltonian"
   ]
  },
  {
   "cell_type": "code",
   "execution_count": 33,
   "id": "0ecf2c5b",
   "metadata": {},
   "outputs": [],
   "source": [
    "from ht_grouper_helpers import write_hamiltonian_to_json\n",
    "\n",
    "ham = {\"IIIIIIII\": -2.624579060173102,  \"IIIIIIZI\": -0.07904417087465629,  \"IIIIIZII\": 0.06963766679823809,  \"IIIIZIII\": 0.1813649242546771,  \"IIIIZIZI\": 0.08454049626310602,  \"IIIIZZII\": 0.08792660899667015,  \"IIIIZZZI\": 0.07761988828992306,  \"IIIZIZIZ\": 0.0794386006168131,  \"IIIZIZZZ\": -0.3346123458132604,  \"IIIZZIZZ\": 0.08982499647657266,  \"IIIZZZZZ\": 0.10647091296616065,  \"IIZIIIII\": -0.07904417087465622,  \"IIZIIIZI\": 0.1168514042959076,  \"IIZIZIII\": 0.11149831432137883,  \"IIZIZZII\": 0.11194107542768723,  \"IIZZIZZZ\": 0.12005437336308761,  \"IZIIIIII\": 0.06963766679823809,  \"IZIZIIII\": 0.0794386006168131,  \"IZZIIZZZ\": 0.14526192015947448,  \"IZZZIIII\": -0.33461234581326055,  \"IZZZIIZI\": 0.12005437336308761,  \"IZZZZIII\": 0.13073850353772143,  \"IZZZZZII\": 0.11598612054758822,  \"ZIIIIIII\": 0.18136492425467743,  \"ZIIIIIZI\": 0.11149831432137883,  \"ZIIIZIII\": 0.12432167547296145,  \"ZIIIZZII\": 0.10898280176407836,  \"ZIIZIZZZ\": 0.13073850353772143,  \"ZIZIIIII\": 0.08454049626310602,  \"ZIZZIIII\": 0.08982499647657266,  \"ZZIIIIII\": 0.08792660899666997,  \"ZZIIIIZI\": 0.11194107542768723,  \"ZZIIZIII\": 0.10898280176407836,  \"ZZIIZZII\": 0.11340652637318277,  \"ZZIZIZZZ\": 0.11598612054758822,  \"ZZZIIIII\": 0.07761988828992306,  \"ZZZZIIII\": 0.10647091296616065,  \"IIIIIXII\": 0.02554524310593115,  \"IIIIIXZI\": -0.01726459683389079,  \"IIIIZXZI\": 0.010290722790561629,  \"IIIZIXIZ\": -0.010290722790561629,  \"IIIZZXIZ\": 0.01726459683389079,  \"IIIZZXZZ\": -0.02554524310593115,  \"IIZIIXZI\": 0.0007033107955335648,  \"IIZZZXIZ\": -0.0007033107955335648,  \"IZZIZXIZ\": -0.023384612774806107,  \"IZZZIXZI\": 0.023384612774806107,  \"ZIIIIXZI\": 0.021062076540351606,  \"ZIIZZXIZ\": -0.021062076540351606,  \"ZZIIIXZI\": 0.001013869592018545,  \"ZZIZZXIZ\": -0.001013869592018545,  \"IIIIXIXI\": -0.02441822842470195,  \"IIIIXZXI\": 0.013029985419546652,  \"IIIIYZYI\": -0.01138824300515531,  \"IIIZXIXZ\": -0.02441822842470195,  \"IIIZXZXZ\": 0.013029985419546652,  \"IIIZYZYZ\": -0.01138824300515531,  \"IIIIXXXI\": -0.022049003978125037,  \"IIIIXYYI\": -0.00556065318530374,  \"IIIIYXYI\": -0.022049003978125037,  \"IIIIYYXI\": 0.00556065318530374,  \"IIIZXXXZ\": 0.011234312732252972,  \"IIIZYXYZ\": 0.011234312732252972,  \"IIZIXYYI\": -0.0017153824135075152,  \"IIZIYYXI\": 0.0017153824135075152,  \"IZZZXYYI\": -0.021476995247468093,  \"IZZZYYXI\": 0.021476995247468093,  \"ZIIIXYYI\": -0.020391532177805285,  \"ZIIIYYXI\": 0.020391532177805285,  \"ZZIIXYYI\": 0.002451500187231129,  \"ZZIIYYXI\": -0.002451500187231129,  \"IIXIIIXI\": 0.040615772746274495,  \"IIXZIZXZ\": -0.040615772746274495,  \"IZXIIZXZ\": 0.040615772746274495,  \"IZXZIIXI\": -0.040615772746274495,  \"IIXIIXXI\": 0.02484193231039758,  \"IIXIZYYI\": 0.02484193231039758,  \"IZXZIXXI\": -0.02484193231039758,  \"IZXZZYYI\": -0.02484193231039758,  \"IIXIXIII\": -0.037658003841522666,  \"IIXIXZII\": 0.037658003841522666,  \"IZXZXIII\": 0.037658003841522666,  \"IZXZXZII\": -0.037658003841522666,  \"IIXIYYZI\": -0.010242682515215124,  \"IIXZXXIZ\": -0.010242682515215124,  \"IZXIXXIZ\": 0.010242682515215124,  \"IZXZYYZI\": 0.010242682515215124,  \"IXIIIIII\": 0.02554524310593115,  \"IXIZIIII\": -0.010290722790561629,  \"IXZIIIII\": -0.01726459683389078,  \"IXZIIIZI\": 0.0007033107955335648,  \"IXZIZIII\": 0.021062076540351606,  \"IXZIZZII\": 0.001013869592018545,  \"IXZZIZZZ\": 0.023384612774806107,  \"ZXIIIZZZ\": -0.023384612774806107,  \"ZXIZIIII\": 0.01726459683389078,  \"ZXIZIIZI\": -0.0007033107955335648,  \"ZXIZZIII\": -0.021062076540351606,  \"ZXIZZZII\": -0.001013869592018545,  \"ZXZIIIII\": 0.010290722790561629,  \"ZXZZIIII\": -0.02554524310593115,  \"IXZIIXZI\": 0.02616112407101557,  \"IXZZZXIZ\": -0.02616112407101557,  \"ZXIIZXIZ\": 0.02616112407101557,  \"ZXIZIXZI\": -0.02616112407101557,  \"IXZIXYYI\": -0.024628018421976018,  \"IXZIYYXI\": 0.024628018421976018,  \"ZXIZXYYI\": 0.024628018421976018,  \"ZXIZYYXI\": -0.024628018421976018,  \"IXXIIIXI\": 0.02484193231039758,  \"IXXZIZXZ\": -0.02484193231039758,  \"ZYYIIIXI\": 0.02484193231039758,  \"ZYYZIZXZ\": -0.02484193231039758,  \"IXXIIXXI\": 0.03432118713776418,  \"IXXIZYYI\": 0.03432118713776418,  \"ZYYIIXXI\": 0.03432118713776418,  \"ZYYIZYYI\": 0.03432118713776418,  \"IXXIXIII\": -0.024500504165356166,  \"IXXIXZII\": 0.024500504165356166, \"ZYYIXIII\": -0.024500504165356166,  \"ZYYIXZII\": 0.024500504165356166,  \"IXXIYYZI\": 0.013239775416820712,  \"IXXZXXIZ\": 0.013239775416820712,  \"ZYYIYYZI\": 0.013239775416820712,  \"ZYYZXXIZ\": 0.013239775416820712, \"XIIIIIXI\": -0.037658003841522666,  \"XIIZIZXZ\": 0.037658003841522666,  \"XZIIIIXI\": 0.037658003841522666,  \"XZIZIZXZ\": -0.037658003841522666,  \"XIIIIXXI\": -0.02450050416535616,  \"XIIIZYYI\": -0.02450050416535616,  \"XZIIIXXI\": 0.02450050416535616,  \"XZIIZYYI\": 0.02450050416535616,  \"XIIIXIII\": 0.03934513496584029,  \"XIIIXZII\": -0.03934513496584029,  \"XZIIXIII\": -0.03934513496584029,  \"XZIIXZII\": 0.03934513496584029,  \"XIIIYYZI\": 0.01077135374978998,  \"XIIZXXIZ\": 0.01077135374978998,  \"XZIIYYZI\": -0.01077135374978998,  \"XZIZXXIZ\": -0.01077135374978998,  \"XIXIIIII\": -0.02441822842470195,  \"XIXZIIII\": -0.02441822842470195,  \"XZXIIIII\": 0.013029985419546652,  \"XZXZIIII\": 0.013029985419546652,  \"YZYIIIII\": -0.01138824300515531,  \"YZYZIIII\": -0.01138824300515531,  \"XXIIIZXZ\": 0.010242682515215124,  \"XXIZIIXI\": -0.010242682515215124,  \"YYZIIIXI\": -0.010242682515215124,  \"YYZZIZXZ\": 0.010242682515215124,  \"XXIZIXXI\": 0.013239775416820712,  \"XXIZZYYI\": 0.013239775416820712,  \"YYZIIXXI\": 0.013239775416820712,  \"YYZIZYYI\": 0.013239775416820712,  \"XXIZXIII\": 0.01077135374978998,  \"XXIZXZII\": -0.01077135374978998,  \"YYZIXIII\": 0.01077135374978998,  \"YYZIXZII\": -0.01077135374978998,  \"XXIIXXIZ\": 0.024267590571560763,  \"XXIZYYZI\": 0.024267590571560763,  \"YYZIYYZI\": 0.024267590571560763,  \"YYZZXXIZ\": 0.024267590571560763,  \"XXXIIIII\": -0.022049003978125037,  \"XXXZIIII\": 0.011234312732252972,  \"XYYIIIII\": -0.005560653185303723,  \"XYYIIIZI\": -0.0017153824135075152,  \"XYYIZIII\": -0.020391532177805285,  \"XYYIZZII\": 0.002451500187231129,  \"XYYZIZZZ\": -0.021476995247468093,  \"YXYIIIII\": -0.022049003978125037,  \"YXYZIIII\": 0.011234312732252972,  \"YYXIIIII\": 0.005560653185303723,  \"YYXIIIZI\": 0.0017153824135075152,  \"YYXIZIII\": 0.020391532177805285,  \"YYXIZZII\": -0.002451500187231129,  \"YYXZIZZZ\": 0.021476995247468093,  \"XYYIIXZI\": -0.024628018421976018,  \"XYYZZXIZ\": 0.024628018421976018,  \"YYXIIXZI\": 0.024628018421976018,  \"YYXZZXIZ\": -0.024628018421976018,  \"XYYIXYYI\": 0.026957818058272826,  \"XYYIYYXI\": -0.026957818058272826,  \"YYXIXYYI\": -0.026957818058272826,  \"YYXIYYXI\": 0.026957818058272826}\n",
    "write_hamiltonian_to_json(\"hamiltonians/examples/H4_bk.json\", ham)"
   ]
  },
  {
   "cell_type": "markdown",
   "id": "c40cc9ac",
   "metadata": {},
   "source": [
    "## Step 2: Configure job (not in this notebook)\n",
    "\n",
    "Open `{ROOT}/data/config.txt` and specify path names:\n",
    "\n",
    "- filename (input path for Hamiltonian), here: \"hamiltonians/examples/H4_bk.json\"\n",
    "- ``outfilename`` (output path for grouping), here: \"grouping_result/examples/H4_bk_lin.json\" \n",
    "\n",
    "You can specify the assumed hardware connectivity to which the readout circuits shall be tailored (default: linear).\n",
    "- ``connectivity`` (input path for file containing adjacency matrix), here \"connectivities/default_connectivity.txt\"\n"
   ]
  },
  {
   "cell_type": "markdown",
   "id": "e409a89f",
   "metadata": {},
   "source": [
    "### Example for the file \"config.txt\"\n",
    "\n",
    "    # Configure your problem here.\n",
    "\n",
    "    # The filenames may be absolute: e.g., C:\\Users\\me\\Desktop\\myhamiltonian.txt)\n",
    "    # or relative to the data/ directory in the repository: e.g., ../myfolder/myhamiltonian.txt\n",
    "\n",
    "    filename = hamiltonians/examples/H4_bk.json\t\t\t\t# where to read the hamiltonian data from \n",
    "    outfilename = grouping_result/examples/H4_bk_example.json\t# where to output the grouping\n",
    "    connectivity = connectivities/default_connectivity.txt\t# which connectivity file to use\n",
    "\n",
    "    numGraphs = 100000000         # Hyperparameter: Maximum number of random subgraphs\n",
    "    maxEdgeCount = 1000           # Hyperparameter: Maximum number of edges for subgraphs\n",
    "    sortGraphsByEdgeCount = true  # Sort possible subgraphs by edge count so graphs with lower edge count are preferred\n",
    "\n",
    "    numThreads = 8                # option for multithreading\n"
   ]
  },
  {
   "cell_type": "markdown",
   "id": "d3d253e4",
   "metadata": {},
   "source": [
    "## Step 3: Run HT-Grouper (not in this notebook)\n",
    "\n",
    "Open the project (located at `{ROOT}/build/HT-Grouper.sln`).\n",
    "\n",
    "Press ``F5``.\n",
    "\n",
    "Recommendation: Change the configuration from *Debug* to *Release* at the top option bar to speed up the computation."
   ]
  },
  {
   "cell_type": "markdown",
   "id": "dbdb48b5",
   "metadata": {},
   "source": [
    "## Step 4: Analyze expected performance of HT-grouping result"
   ]
  },
  {
   "cell_type": "code",
   "execution_count": 35,
   "id": "cc21791a",
   "metadata": {
    "scrolled": false
   },
   "outputs": [
    {
     "name": "stdout",
     "output_type": "stream",
     "text": [
      "Number of jointly-HT-measurable groups: 9\n",
      "Size distribution of groups: [37, 24, 22, 20, 26, 12, 16, 16, 12]\n",
      "Estimated shot reduction: 22.498713400246537 (HT over individual Pauli measurements) \n",
      "Estimated shot reduction: 1.905520342148904 (HT over tensor product bases) \n",
      "Estimated shot reduction: 1.8922168946842948 (GC over tensor product bases) \n"
     ]
    }
   ],
   "source": [
    "from ht_grouper_helpers import read_grouping_from_json, generate_readout_circuits\n",
    "from sorted_insertion import R_hat, sorted_insertion, sorted_insertion_qwc\n",
    "\n",
    "ht_grouping = read_grouping_from_json(\"grouping_result/examples/H4_bk_example.json\")\n",
    "readout_circuits = generate_readout_circuits(ht_grouping)\n",
    "\n",
    "group_sizes = []\n",
    "\n",
    "for index, collection in enumerate(ht_grouping):\n",
    "    paulis = collection[\"operators\"]\n",
    "    group_sizes.append(len(paulis))\n",
    "    \n",
    "shot_reduction_ht = R_hat(ht_grouping, ham) # as defined in https://doi.org/10.22331/q-2021-01-20-385\n",
    "\n",
    "qwc_grouping = sorted_insertion_qwc(ham)\n",
    "shot_reduction_tpb = R_hat(qwc_grouping, ham)\n",
    "\n",
    "gc_grouping = sorted_insertion(ham)\n",
    "shot_reduction_gc = R_hat(gc_grouping, ham)\n",
    "\n",
    "\n",
    "print(f\"Number of jointly-HT-measurable groups: {len(ht_grouping)}\")\n",
    "print(f\"Size distribution of groups: {group_sizes}\")\n",
    "print(f\"Estimated shot reduction: {shot_reduction_ht} (HT over individual Pauli measurements) \")\n",
    "print(f\"Estimated shot reduction: {shot_reduction_ht/shot_reduction_tpb} (HT over tensor product bases) \")\n",
    "print(f\"Estimated shot reduction: {shot_reduction_gc/shot_reduction_tpb} (GC over tensor product bases) \")\n"
   ]
  },
  {
   "cell_type": "markdown",
   "id": "5f6745a0",
   "metadata": {},
   "source": [
    "For this example, our HT-grouper outperforms *Sorted Insertion* (general commutativity).\n",
    "\n",
    "Note that this is a coincidence. In general, $\\hat{R}_\\mathrm{GC}$ should be regarded as an approximate upper bound to $\\hat{R}_\\mathrm{HT}$."
   ]
  },
  {
   "cell_type": "code",
   "execution_count": 7,
   "id": "8562d94e",
   "metadata": {
    "scrolled": true
   },
   "outputs": [
    {
     "name": "stdout",
     "output_type": "stream",
     "text": [
      "Collection 0:\n",
      "Number of measurable Pauli operators: 37\n",
      "Number of CZ-gates in readout circuit: 0\n",
      "Collection 1:\n",
      "Number of measurable Pauli operators: 24\n",
      "Number of CZ-gates in readout circuit: 0\n",
      "Collection 2:\n",
      "Number of measurable Pauli operators: 22\n",
      "Number of CZ-gates in readout circuit: 2\n",
      "Collection 3:\n",
      "Number of measurable Pauli operators: 20\n",
      "Number of CZ-gates in readout circuit: 4\n",
      "Collection 4:\n",
      "Number of measurable Pauli operators: 26\n",
      "Number of CZ-gates in readout circuit: 4\n",
      "Collection 5:\n",
      "Number of measurable Pauli operators: 12\n",
      "Number of CZ-gates in readout circuit: 0\n",
      "Collection 6:\n",
      "Number of measurable Pauli operators: 16\n",
      "Number of CZ-gates in readout circuit: 2\n",
      "Collection 7:\n",
      "Number of measurable Pauli operators: 16\n",
      "Number of CZ-gates in readout circuit: 2\n",
      "Collection 8:\n",
      "Number of measurable Pauli operators: 12\n",
      "Number of CZ-gates in readout circuit: 2\n"
     ]
    }
   ],
   "source": [
    "# print all readout circuits\n",
    "for index, (collection, circuit) in enumerate(zip(ht_grouping, readout_circuits)):\n",
    "    print(f'Collection {index}:')\n",
    "    paulis = collection[\"operators\"]\n",
    "    print(f'Number of measurable Pauli operators: {len(paulis)}')\n",
    "    cz_gates = collection[\"edges\"]\n",
    "    print(f'Number of CZ-gates in readout circuit: {len(cz_gates)}')\n",
    "  \n",
    "    ### uncomment to see the circuits\n",
    "    # print(circuit)"
   ]
  },
  {
   "cell_type": "markdown",
   "id": "aa817527",
   "metadata": {},
   "source": [
    "# Step 5: Run Quantum Circuit on QASM simulator"
   ]
  },
  {
   "cell_type": "code",
   "execution_count": 36,
   "id": "665b75da",
   "metadata": {},
   "outputs": [
    {
     "name": "stdout",
     "output_type": "stream",
     "text": [
      "       ┌──────────────────────────┐ \n",
      "q_0: ──┤ U(0.3946,0.5283,0.76435) ├─\n",
      "      ┌┴──────────────────────────┴┐\n",
      "q_1: ─┤ U(0.49367,0.33826,0.68762) ├\n",
      "     ┌┴────────────────────────────┤\n",
      "q_2: ┤ U(0.96754,0.041473,0.65836) ├\n",
      "     └┬────────────────────────────┤\n",
      "q_3: ─┤ U(0.32069,0.87727,0.96307) ├\n",
      "      ├────────────────────────────┤\n",
      "q_4: ─┤ U(0.13714,0.12662,0.48845) ├\n",
      "     ┌┴────────────────────────────┤\n",
      "q_5: ┤ U(0.64984,0.014799,0.14262) ├\n",
      "     └┬────────────────────────────┤\n",
      "q_6: ─┤ U(0.99145,0.71094,0.59073) ├\n",
      "      ├────────────────────────────┤\n",
      "q_7: ─┤ U(0.03631,0.64719,0.22548) ├\n",
      "      └────────────────────────────┘\n"
     ]
    }
   ],
   "source": [
    "from qiskit import QuantumCircuit\n",
    "\n",
    "n=8 # number of qubits\n",
    "\n",
    "# Create (ansatz) circuit for state preparation, e.g., random separable state\n",
    "qc_prep = QuantumCircuit(n) \n",
    "for i in range(n):\n",
    "    qc_prep.u(*np.random.rand(3), i)\n",
    "    \n",
    "print(qc_prep)"
   ]
  },
  {
   "cell_type": "code",
   "execution_count": 58,
   "id": "1da511a5",
   "metadata": {
    "scrolled": false
   },
   "outputs": [],
   "source": [
    "from ht_grouper_helpers import HamiltonianExperiment\n",
    "\n",
    "# preapare experiment, where state is prepared, and hamiltonian is measured via HT grouping\n",
    "experiment = HamiltonianExperiment(qc_prep, ht_grouping, ham)\n",
    "shots_per_circuit = 10000\n",
    "# note: in a real application use optimal shot alloction instead of equal shot allocation\n",
    "#       --> https://doi.org/10.22331/q-2021-01-20-385\n",
    "\n",
    "\n",
    "# simulate the experiment with qiskit's 'qasm_simulator'\n",
    "job = experiment.simulate(shots=shots_per_circuit)"
   ]
  },
  {
   "cell_type": "markdown",
   "id": "2489e413",
   "metadata": {},
   "source": [
    "## Step 6: Classical Postprocessing \n",
    "\n",
    "Compute expecation values from simulated or experimental data.\n"
   ]
  },
  {
   "cell_type": "code",
   "execution_count": 57,
   "id": "8df9a42d",
   "metadata": {
    "scrolled": false
   },
   "outputs": [
    {
     "data": {
      "text/plain": [
       "{Pauli('IIIIIIII'): 1.0,\n",
       " Pauli('IIIIZZZI'): 0.4806,\n",
       " Pauli('ZZZIZIII'): 0.4018,\n",
       " Pauli('IIIIIIIZ'): 0.9258,\n",
       " Pauli('IIIZIIII'): 0.992,\n",
       " Pauli('ZZZIIZZI'): 0.2164,\n",
       " Pauli('ZZZIZIIZ'): 0.3732,\n",
       " Pauli('IIIZZZZI'): 0.4786,\n",
       " Pauli('IIIZIIIZ'): 0.9182,\n",
       " Pauli('ZZZIZZII'): 0.2366,\n",
       " Pauli('IZIIZZZI'): 0.2632,\n",
       " Pauli('IZIIIZII'): 0.3166,\n",
       " Pauli('ZZZIZIZZ'): 0.3282,\n",
       " Pauli('IIZZZZZI'): 0.3736,\n",
       " Pauli('IIZZIIZZ'): 0.6414,\n",
       " Pauli('IIZZIZII'): 0.4554,\n",
       " Pauli('IZIIIIZZ'): 0.4394,\n",
       " Pauli('IIIZIZII'): 0.578,\n",
       " Pauli('IZIIIIIZ'): 0.5024,\n",
       " Pauli('IIIZIIZZ'): 0.81,\n",
       " Pauli('IIZZIIIZ'): 0.724,\n",
       " Pauli('IIIIZZZZ'): 0.4464,\n",
       " Pauli('ZZZZZIII'): 0.399,\n",
       " Pauli('ZZIZZIII'): 0.508,\n",
       " Pauli('IIIIZZIZ'): 0.5114,\n",
       " Pauli('IIZZIIII'): 0.7826,\n",
       " Pauli('IIIIIIZZ'): 0.8164,\n",
       " Pauli('IZIZIIII'): 0.5358,\n",
       " Pauli('IIIIIZIZ'): 0.5398,\n",
       " Pauli('IIIIZIZI'): 0.8354,\n",
       " Pauli('ZIZIZIII'): 0.7448,\n",
       " Pauli('IZIIIIII'): 0.541,\n",
       " Pauli('IIIIIZII'): 0.5816,\n",
       " Pauli('IZZZIIII'): 0.4228,\n",
       " Pauli('IIIIIZZZ'): 0.4696,\n",
       " Pauli('IIIIIIZI'): 0.8826,\n",
       " Pauli('IIZIIIII'): 0.7878,\n",
       " Pauli('IXIIIXII'): 0.5054,\n",
       " Pauli('ZXZIZXII'): 0.3874,\n",
       " Pauli('ZXZIIXZI'): 0.3624,\n",
       " Pauli('IXIIZXZI'): 0.4248,\n",
       " Pauli('IIIXIIIX'): 0.058,\n",
       " Pauli('IIZXIIZX'): 0.033,\n",
       " Pauli('IIIXIIZX'): 0.0518,\n",
       " Pauli('IIZXIIIX'): 0.04,\n",
       " Pauli('IXIIIIIX'): 0.2118,\n",
       " Pauli('ZXZIZIIX'): 0.1574,\n",
       " Pauli('IXIIIIZX'): 0.1852,\n",
       " Pauli('ZXZIZIZX'): 0.1384,\n",
       " Pauli('IIIXIXII'): 0.1272,\n",
       " Pauli('IIZXIXII'): 0.1164,\n",
       " Pauli('IIIXZXZI'): 0.1062,\n",
       " Pauli('IIZXZXZI'): 0.0994,\n",
       " Pauli('ZXIXZIII'): 0.0806,\n",
       " Pauli('IXIXIIII'): 0.0886,\n",
       " Pauli('IIIIZXIX'): 0.26,\n",
       " Pauli('IIIIIXIX'): 0.2764,\n",
       " Pauli('IIIIIXZX'): 0.2438,\n",
       " Pauli('ZXZXZIII'): 0.0754,\n",
       " Pauli('IXZXIIII'): 0.0794,\n",
       " Pauli('IIIIZXZX'): 0.231,\n",
       " Pauli('IYYZIXXI'): 0.0102,\n",
       " Pauli('IXXIIXXI'): 0.134,\n",
       " Pauli('IIIIIIXI'): 0.4422,\n",
       " Pauli('IXXIIXII'): 0.305,\n",
       " Pauli('IYYZIXII'): 0.014,\n",
       " Pauli('IXXIIIIX'): 0.1122,\n",
       " Pauli('IYYZIIIX'): 0.0164,\n",
       " Pauli('ZIXXIIXX'): 0.0098,\n",
       " Pauli('IZYYZIXX'): 0.0092,\n",
       " Pauli('IIIIIXXX'): 0.123,\n",
       " Pauli('ZIXXZXXI'): 0.0234,\n",
       " Pauli('IXXIZIXX'): 0.048,\n",
       " Pauli('IYYZZIXX'): -0.0002,\n",
       " Pauli('IZYYIXXI'): 0.014,\n",
       " Pauli('ZYZYZIII'): -0.0036,\n",
       " Pauli('IYZYIIII'): 0.002,\n",
       " Pauli('IIIIZXXX'): 0.117,\n",
       " Pauli('ZIXXZIIX'): 0.0176,\n",
       " Pauli('IZYYIIIX'): -0.005,\n",
       " Pauli('IIIIZIXI'): 0.421,\n",
       " Pauli('ZIXXZXII'): 0.0676,\n",
       " Pauli('IZYYIXII'): -0.0042,\n",
       " Pauli('IYYZIYYZ'): 0.0008,\n",
       " Pauli('IXXIIYYZ'): 0.0076,\n",
       " Pauli('IIIIZZXZ'): 0.2338,\n",
       " Pauli('IXXIZXZI'): 0.2486,\n",
       " Pauli('IYYZZXZI'): 0.0106,\n",
       " Pauli('IXXIIIZX'): 0.1002,\n",
       " Pauli('IYYZIIZX'): 0.0058,\n",
       " Pauli('ZIXXZZYY'): 0.0004,\n",
       " Pauli('IZYYIZYY'): 0.011,\n",
       " Pauli('IIIIIYXY'): -0.015,\n",
       " Pauli('IZYYIYYZ'): -0.0048,\n",
       " Pauli('ZIXXZYYZ'): 0.0126,\n",
       " Pauli('IXXIIZYY'): 0.0146,\n",
       " Pauli('IYYZIZYY'): 0.007,\n",
       " Pauli('IIIIZYXY'): -0.0128,\n",
       " Pauli('IZYYIIZX'): -0.0094,\n",
       " Pauli('ZIXXZIZX'): 0.0196,\n",
       " Pauli('IIIIIZXZ'): 0.242,\n",
       " Pauli('IZYYZXZI'): -0.0114,\n",
       " Pauli('ZIXXIXZI'): 0.0688,\n",
       " Pauli('IXYYIXYY'): -0.0122,\n",
       " Pauli('IYYXIXYY'): -0.001,\n",
       " Pauli('IYYXIYYX'): -0.01,\n",
       " Pauli('IXYYIYYX'): -0.0116,\n",
       " Pauli('IZXIZIXZ'): 0.1074,\n",
       " Pauli('ZIXZIIXZ'): 0.2314,\n",
       " Pauli('ZIXZZZXI'): 0.1352,\n",
       " Pauli('IZXIIZXI'): 0.076,\n",
       " Pauli('IXYYIZXI'): 0.0202,\n",
       " Pauli('ZIXZZYYX'): -0.0078,\n",
       " Pauli('IXYYZIXZ'): -0.0004,\n",
       " Pauli('IYYXIZXI'): 0.0058,\n",
       " Pauli('IYYXZIXZ'): 0.0036,\n",
       " Pauli('IZXIIYYX'): 0.0098,\n",
       " Pauli('IZXIIXYY'): -0.0044,\n",
       " Pauli('ZIXZZXYY'): -0.0068,\n",
       " Pauli('IZXIIIII'): 0.3144,\n",
       " Pauli('ZIXZZIII'): 0.5568,\n",
       " Pauli('IIIIIZXI'): 0.25,\n",
       " Pauli('IIIIZIXZ'): 0.3814,\n",
       " Pauli('IIIIZYZY'): 0.012,\n",
       " Pauli('IIIIIYZY'): 0.0108,\n",
       " Pauli('IXYYIIII'): -0.0094,\n",
       " Pauli('IYYXIIII'): -0.0082,\n",
       " Pauli('IIIIIYYX'): 0.0106,\n",
       " Pauli('IIIIIXYY'): 0.016,\n",
       " Pauli('IIXIIIII'): 0.6086,\n",
       " Pauli('ZZXZZIII'): 0.3218,\n",
       " Pauli('IZXIZZZI'): 0.153,\n",
       " Pauli('ZIXZIZZI'): 0.295,\n",
       " Pauli('ZIXZZIIZ'): 0.525,\n",
       " Pauli('IZXIIIIZ'): 0.3078,\n",
       " Pauli('IZXZIIII'): 0.3362,\n",
       " Pauli('ZIXIZIII'): 0.5786,\n",
       " Pauli('IZXIIIZZ'): 0.2704,\n",
       " Pauli('ZIXZZIZZ'): 0.4532,\n",
       " Pauli('IZXIIZII'): 0.1868,\n",
       " Pauli('ZIXZZZII'): 0.3268,\n",
       " Pauli('ZXZIZYYZ'): -0.0014,\n",
       " Pauli('IXIIIYYZ'): 0.0096,\n",
       " Pauli('ZXZIZXXI'): 0.2002,\n",
       " Pauli('IXIIIXXI'): 0.2472,\n",
       " Pauli('IIIXIXXI'): 0.0674,\n",
       " Pauli('IIZXIYYZ'): -0.0102,\n",
       " Pauli('IIZXIXXI'): 0.0618,\n",
       " Pauli('IIIXIYYZ'): -0.0054,\n",
       " Pauli('IIIXZIXX'): 0.0262,\n",
       " Pauli('IIZXZIXX'): 0.021,\n",
       " Pauli('IIIXIZYY'): -0.0068,\n",
       " Pauli('IIZXIZYY'): -0.0068,\n",
       " Pauli('IXIIIZYY'): 0.0258,\n",
       " Pauli('IXIIZIXX'): 0.078,\n",
       " Pauli('ZXZIIIXX'): 0.0762,\n",
       " Pauli('ZXZIZZYY'): 0.0168,\n",
       " Pauli('ZZZIIIXZ'): 0.1778,\n",
       " Pauli('ZZZIZZXI'): 0.117,\n",
       " Pauli('ZZZIZXYY'): 0.0098,\n",
       " Pauli('ZZZIZYYX'): 0.0046,\n",
       " Pauli('IIIZIZXI'): 0.2608,\n",
       " Pauli('IIIZZIXZ'): 0.3784,\n",
       " Pauli('IIIZIYYX'): -0.0004,\n",
       " Pauli('IIIZIXYY'): 0.0104,\n",
       " Pauli('IIZZIYYX'): 0.0096,\n",
       " Pauli('IIZZIXYY'): 0.0068,\n",
       " Pauli('IZIIIYYX'): -0.0184,\n",
       " Pauli('IZIIIXYY'): -0.0028,\n",
       " Pauli('IIZZIZXI'): 0.208,\n",
       " Pauli('IIZZZIXZ'): 0.29,\n",
       " Pauli('IZIIIZXI'): 0.1492,\n",
       " Pauli('IZIIZIXZ'): 0.2096,\n",
       " Pauli('IXXXIIII'): 0.0518,\n",
       " Pauli('IYXYIIII'): -0.0154,\n",
       " Pauli('IXYYZZZI'): -0.007,\n",
       " Pauli('IYYXZZZI'): 0.0042,\n",
       " Pauli('IXYYIIIZ'): -0.0142,\n",
       " Pauli('IYYXIIIZ'): -0.0226,\n",
       " Pauli('ZYXYZIII'): -0.0184,\n",
       " Pauli('ZXXXZIII'): 0.0512,\n",
       " Pauli('IXYYIIZZ'): -0.027,\n",
       " Pauli('IYYXIIZZ'): -0.0198,\n",
       " Pauli('IXYYIZII'): 0.006,\n",
       " Pauli('IYYXIZII'): 0.0076}"
      ]
     },
     "execution_count": 57,
     "metadata": {},
     "output_type": "execute_result"
    }
   ],
   "source": [
    "experiment.evaluate(job)\n",
    "\n",
    "### uncomment for individual Pauli expectation values in ham\n",
    "# experiment.evaluate_indidual_paulis(job)"
   ]
  },
  {
   "cell_type": "markdown",
   "id": "56797d4d",
   "metadata": {},
   "source": [
    "### Sanity check\n",
    "\n",
    "compare result with exact statevector expectation value"
   ]
  },
  {
   "cell_type": "code",
   "execution_count": 56,
   "id": "8f35d83a",
   "metadata": {
    "scrolled": false
   },
   "outputs": [
    {
     "name": "stdout",
     "output_type": "stream",
     "text": [
      "Exact expectation value for XZXZIIII: 0.22830107093238075\n",
      "Simu  expectation value for XZXZIIII: 0.231 (includes statistical noise)\n"
     ]
    }
   ],
   "source": [
    "from qiskit import Aer, execute\n",
    "from qiskit.quantum_info import Pauli\n",
    "\n",
    "def pauli_to_matrix(pauli):\n",
    "    out = 1\n",
    "    for i in range(len(pauli)):\n",
    "        if pauli[i] == 'I':\n",
    "            out = np.kron(out, np.eye(2))\n",
    "        elif pauli[i] == 'X':\n",
    "            out = np.kron(out, np.array([[0,1],[1,0]]))\n",
    "        elif pauli[i] == 'Y':\n",
    "            out = np.kron(out, np.array([[0,-1j],[1j,0]]))\n",
    "        elif pauli[i] == 'Z':\n",
    "            out = np.kron(out, np.diag([1,-1]))\n",
    "    return out\n",
    "\n",
    "\n",
    "\n",
    "psi = np.array(execute(qc_prep, backend=Aer.get_backend('statevector_simulator')).result().get_statevector())\n",
    "\n",
    "\n",
    "\n",
    "p = 'XZXZIIII'\n",
    "p_qiskit = p[::-1]# undo qiskit qubit order reversion\n",
    "\n",
    "print('Exact expectation value for '+p+':' , (np.conj(psi.T)@pauli_to_matrix(p_qiskit)@psi).real)\n",
    "print('Simu  expectation value for '+p+':', experiment.evaluate(job)[Pauli(p_qiskit)], '(includes statistical noise)')\n"
   ]
  },
  {
   "cell_type": "markdown",
   "id": "1f943515",
   "metadata": {},
   "source": [
    "## Additional feature: Specify Hardware Connectivity using GraphStateVis\n",
    "\n",
    "You can use GraphStateVis to draw the connectivity graph of your quantum chip:\n",
    "\n",
    "https://graphvis.uber.space/?graph=16_900120048004024048120109124865\n",
    "\n",
    "\n",
    "\n",
    "After completion, copy the graphID, e.g., '16_900120048004024048120109124865'"
   ]
  },
  {
   "cell_type": "code",
   "execution_count": 29,
   "id": "12add315",
   "metadata": {
    "scrolled": true
   },
   "outputs": [],
   "source": [
    "import numpy as np\n",
    "\n",
    "def graphID_to_connectivity(graphID, path):\n",
    "    n_str, hexID = graphID.split(\"_\")\n",
    "    n = int(n_str)\n",
    "    binID = \"{:b}\".format(int(hexID, 16)) \n",
    "    binID = '0'*((n-1)*n//2 - len(binID)) + binID  \n",
    "    \n",
    "    adj = np.zeros([n,n], dtype=int)\n",
    "    pos = 0\n",
    "    for i in range(n):\n",
    "        for j in range(i+1,n): \n",
    "            adj[i][j] = adj[j][i] = int(binID[pos])\n",
    "            pos +=1 \n",
    "    with open(path, 'w') as file:\n",
    "        for row in adj:\n",
    "            file.write(str(row)[1:-1]+'\\n')\n",
    "\n",
    "            \n",
    "graphID = '16_900120048004024048120109124865'\n",
    "path = 'connectivities/grid16.txt'\n",
    "graphID_to_connectivity(graphID, path)"
   ]
  }
 ],
 "metadata": {
  "kernelspec": {
   "display_name": "Python 3 (ipykernel)",
   "language": "python",
   "name": "python3"
  },
  "language_info": {
   "codemirror_mode": {
    "name": "ipython",
    "version": 3
   },
   "file_extension": ".py",
   "mimetype": "text/x-python",
   "name": "python",
   "nbconvert_exporter": "python",
   "pygments_lexer": "ipython3",
   "version": "3.8.5"
  }
 },
 "nbformat": 4,
 "nbformat_minor": 5
}
