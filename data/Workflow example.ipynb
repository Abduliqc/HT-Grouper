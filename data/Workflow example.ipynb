{
 "cells": [
  {
   "cell_type": "code",
   "execution_count": 2,
   "id": "0525944b",
   "metadata": {},
   "outputs": [
    {
     "data": {
      "text/plain": [
       "{'qiskit-terra': '0.23.1', 'qiskit-aer': '0.11.2', 'qiskit-ignis': None, 'qiskit-ibmq-provider': '0.20.0', 'qiskit': '0.41.0', 'qiskit-nature': None, 'qiskit-finance': None, 'qiskit-optimization': None, 'qiskit-machine-learning': None}"
      ]
     },
     "execution_count": 2,
     "metadata": {},
     "output_type": "execute_result"
    }
   ],
   "source": [
    "import qiskit\n",
    "qiskit.__qiskit_version__"
   ]
  },
  {
   "attachments": {},
   "cell_type": "markdown",
   "id": "b37bf410",
   "metadata": {},
   "source": [
    "# Workflow Example\n",
    "\n",
    "This file should be contained in the `{ROOT}/data/` folder.\n",
    "\n"
   ]
  },
  {
   "cell_type": "code",
   "execution_count": 2,
   "id": "3d211f1c",
   "metadata": {},
   "outputs": [],
   "source": [
    "%load_ext autoreload\n",
    "%autoreload 2"
   ]
  },
  {
   "attachments": {},
   "cell_type": "markdown",
   "id": "f753c01b",
   "metadata": {},
   "source": [
    "## Step 1: Prepare Hamiltonian"
   ]
  },
  {
   "cell_type": "code",
   "execution_count": 3,
   "id": "0ecf2c5b",
   "metadata": {},
   "outputs": [],
   "source": [
    "from ht_grouper_helpers import write_hamiltonian_to_json\n",
    "\n",
    "ham = {\"IIIIIIII\": -2.624579060173102,  \"IIIIIIZI\": -0.07904417087465629,  \"IIIIIZII\": 0.06963766679823809,  \"IIIIZIII\": 0.1813649242546771,  \"IIIIZIZI\": 0.08454049626310602,  \"IIIIZZII\": 0.08792660899667015,  \"IIIIZZZI\": 0.07761988828992306,  \"IIIZIZIZ\": 0.0794386006168131,  \"IIIZIZZZ\": -0.3346123458132604,  \"IIIZZIZZ\": 0.08982499647657266,  \"IIIZZZZZ\": 0.10647091296616065,  \"IIZIIIII\": -0.07904417087465622,  \"IIZIIIZI\": 0.1168514042959076,  \"IIZIZIII\": 0.11149831432137883,  \"IIZIZZII\": 0.11194107542768723,  \"IIZZIZZZ\": 0.12005437336308761,  \"IZIIIIII\": 0.06963766679823809,  \"IZIZIIII\": 0.0794386006168131,  \"IZZIIZZZ\": 0.14526192015947448,  \"IZZZIIII\": -0.33461234581326055,  \"IZZZIIZI\": 0.12005437336308761,  \"IZZZZIII\": 0.13073850353772143,  \"IZZZZZII\": 0.11598612054758822,  \"ZIIIIIII\": 0.18136492425467743,  \"ZIIIIIZI\": 0.11149831432137883,  \"ZIIIZIII\": 0.12432167547296145,  \"ZIIIZZII\": 0.10898280176407836,  \"ZIIZIZZZ\": 0.13073850353772143,  \"ZIZIIIII\": 0.08454049626310602,  \"ZIZZIIII\": 0.08982499647657266,  \"ZZIIIIII\": 0.08792660899666997,  \"ZZIIIIZI\": 0.11194107542768723,  \"ZZIIZIII\": 0.10898280176407836,  \"ZZIIZZII\": 0.11340652637318277,  \"ZZIZIZZZ\": 0.11598612054758822,  \"ZZZIIIII\": 0.07761988828992306,  \"ZZZZIIII\": 0.10647091296616065,  \"IIIIIXII\": 0.02554524310593115,  \"IIIIIXZI\": -0.01726459683389079,  \"IIIIZXZI\": 0.010290722790561629,  \"IIIZIXIZ\": -0.010290722790561629,  \"IIIZZXIZ\": 0.01726459683389079,  \"IIIZZXZZ\": -0.02554524310593115,  \"IIZIIXZI\": 0.0007033107955335648,  \"IIZZZXIZ\": -0.0007033107955335648,  \"IZZIZXIZ\": -0.023384612774806107,  \"IZZZIXZI\": 0.023384612774806107,  \"ZIIIIXZI\": 0.021062076540351606,  \"ZIIZZXIZ\": -0.021062076540351606,  \"ZZIIIXZI\": 0.001013869592018545,  \"ZZIZZXIZ\": -0.001013869592018545,  \"IIIIXIXI\": -0.02441822842470195,  \"IIIIXZXI\": 0.013029985419546652,  \"IIIIYZYI\": -0.01138824300515531,  \"IIIZXIXZ\": -0.02441822842470195,  \"IIIZXZXZ\": 0.013029985419546652,  \"IIIZYZYZ\": -0.01138824300515531,  \"IIIIXXXI\": -0.022049003978125037,  \"IIIIXYYI\": -0.00556065318530374,  \"IIIIYXYI\": -0.022049003978125037,  \"IIIIYYXI\": 0.00556065318530374,  \"IIIZXXXZ\": 0.011234312732252972,  \"IIIZYXYZ\": 0.011234312732252972,  \"IIZIXYYI\": -0.0017153824135075152,  \"IIZIYYXI\": 0.0017153824135075152,  \"IZZZXYYI\": -0.021476995247468093,  \"IZZZYYXI\": 0.021476995247468093,  \"ZIIIXYYI\": -0.020391532177805285,  \"ZIIIYYXI\": 0.020391532177805285,  \"ZZIIXYYI\": 0.002451500187231129,  \"ZZIIYYXI\": -0.002451500187231129,  \"IIXIIIXI\": 0.040615772746274495,  \"IIXZIZXZ\": -0.040615772746274495,  \"IZXIIZXZ\": 0.040615772746274495,  \"IZXZIIXI\": -0.040615772746274495,  \"IIXIIXXI\": 0.02484193231039758,  \"IIXIZYYI\": 0.02484193231039758,  \"IZXZIXXI\": -0.02484193231039758,  \"IZXZZYYI\": -0.02484193231039758,  \"IIXIXIII\": -0.037658003841522666,  \"IIXIXZII\": 0.037658003841522666,  \"IZXZXIII\": 0.037658003841522666,  \"IZXZXZII\": -0.037658003841522666,  \"IIXIYYZI\": -0.010242682515215124,  \"IIXZXXIZ\": -0.010242682515215124,  \"IZXIXXIZ\": 0.010242682515215124,  \"IZXZYYZI\": 0.010242682515215124,  \"IXIIIIII\": 0.02554524310593115,  \"IXIZIIII\": -0.010290722790561629,  \"IXZIIIII\": -0.01726459683389078,  \"IXZIIIZI\": 0.0007033107955335648,  \"IXZIZIII\": 0.021062076540351606,  \"IXZIZZII\": 0.001013869592018545,  \"IXZZIZZZ\": 0.023384612774806107,  \"ZXIIIZZZ\": -0.023384612774806107,  \"ZXIZIIII\": 0.01726459683389078,  \"ZXIZIIZI\": -0.0007033107955335648,  \"ZXIZZIII\": -0.021062076540351606,  \"ZXIZZZII\": -0.001013869592018545,  \"ZXZIIIII\": 0.010290722790561629,  \"ZXZZIIII\": -0.02554524310593115,  \"IXZIIXZI\": 0.02616112407101557,  \"IXZZZXIZ\": -0.02616112407101557,  \"ZXIIZXIZ\": 0.02616112407101557,  \"ZXIZIXZI\": -0.02616112407101557,  \"IXZIXYYI\": -0.024628018421976018,  \"IXZIYYXI\": 0.024628018421976018,  \"ZXIZXYYI\": 0.024628018421976018,  \"ZXIZYYXI\": -0.024628018421976018,  \"IXXIIIXI\": 0.02484193231039758,  \"IXXZIZXZ\": -0.02484193231039758,  \"ZYYIIIXI\": 0.02484193231039758,  \"ZYYZIZXZ\": -0.02484193231039758,  \"IXXIIXXI\": 0.03432118713776418,  \"IXXIZYYI\": 0.03432118713776418,  \"ZYYIIXXI\": 0.03432118713776418,  \"ZYYIZYYI\": 0.03432118713776418,  \"IXXIXIII\": -0.024500504165356166,  \"IXXIXZII\": 0.024500504165356166, \"ZYYIXIII\": -0.024500504165356166,  \"ZYYIXZII\": 0.024500504165356166,  \"IXXIYYZI\": 0.013239775416820712,  \"IXXZXXIZ\": 0.013239775416820712,  \"ZYYIYYZI\": 0.013239775416820712,  \"ZYYZXXIZ\": 0.013239775416820712, \"XIIIIIXI\": -0.037658003841522666,  \"XIIZIZXZ\": 0.037658003841522666,  \"XZIIIIXI\": 0.037658003841522666,  \"XZIZIZXZ\": -0.037658003841522666,  \"XIIIIXXI\": -0.02450050416535616,  \"XIIIZYYI\": -0.02450050416535616,  \"XZIIIXXI\": 0.02450050416535616,  \"XZIIZYYI\": 0.02450050416535616,  \"XIIIXIII\": 0.03934513496584029,  \"XIIIXZII\": -0.03934513496584029,  \"XZIIXIII\": -0.03934513496584029,  \"XZIIXZII\": 0.03934513496584029,  \"XIIIYYZI\": 0.01077135374978998,  \"XIIZXXIZ\": 0.01077135374978998,  \"XZIIYYZI\": -0.01077135374978998,  \"XZIZXXIZ\": -0.01077135374978998,  \"XIXIIIII\": -0.02441822842470195,  \"XIXZIIII\": -0.02441822842470195,  \"XZXIIIII\": 0.013029985419546652,  \"XZXZIIII\": 0.013029985419546652,  \"YZYIIIII\": -0.01138824300515531,  \"YZYZIIII\": -0.01138824300515531,  \"XXIIIZXZ\": 0.010242682515215124,  \"XXIZIIXI\": -0.010242682515215124,  \"YYZIIIXI\": -0.010242682515215124,  \"YYZZIZXZ\": 0.010242682515215124,  \"XXIZIXXI\": 0.013239775416820712,  \"XXIZZYYI\": 0.013239775416820712,  \"YYZIIXXI\": 0.013239775416820712,  \"YYZIZYYI\": 0.013239775416820712,  \"XXIZXIII\": 0.01077135374978998,  \"XXIZXZII\": -0.01077135374978998,  \"YYZIXIII\": 0.01077135374978998,  \"YYZIXZII\": -0.01077135374978998,  \"XXIIXXIZ\": 0.024267590571560763,  \"XXIZYYZI\": 0.024267590571560763,  \"YYZIYYZI\": 0.024267590571560763,  \"YYZZXXIZ\": 0.024267590571560763,  \"XXXIIIII\": -0.022049003978125037,  \"XXXZIIII\": 0.011234312732252972,  \"XYYIIIII\": -0.005560653185303723,  \"XYYIIIZI\": -0.0017153824135075152,  \"XYYIZIII\": -0.020391532177805285,  \"XYYIZZII\": 0.002451500187231129,  \"XYYZIZZZ\": -0.021476995247468093,  \"YXYIIIII\": -0.022049003978125037,  \"YXYZIIII\": 0.011234312732252972,  \"YYXIIIII\": 0.005560653185303723,  \"YYXIIIZI\": 0.0017153824135075152,  \"YYXIZIII\": 0.020391532177805285,  \"YYXIZZII\": -0.002451500187231129,  \"YYXZIZZZ\": 0.021476995247468093,  \"XYYIIXZI\": -0.024628018421976018,  \"XYYZZXIZ\": 0.024628018421976018,  \"YYXIIXZI\": 0.024628018421976018,  \"YYXZZXIZ\": -0.024628018421976018,  \"XYYIXYYI\": 0.026957818058272826,  \"XYYIYYXI\": -0.026957818058272826,  \"YYXIXYYI\": -0.026957818058272826,  \"YYXIYYXI\": 0.026957818058272826}\n",
    "write_hamiltonian_to_json(\"hamiltonians/examples/H4_bk.json\", ham)"
   ]
  },
  {
   "attachments": {},
   "cell_type": "markdown",
   "id": "1f943515",
   "metadata": {},
   "source": [
    "## Step 2: Prepare Hardware Connectivity\n",
    "\n",
    "You can use GraphStateVis to draw the connectivity graph of your quantum chip:\n",
    "\n",
    "https://graphvis.uber.space/?graph=16_900120048004024048120109124865\n",
    "\n",
    "\n",
    "After completion, copy the graphID, e.g., '16_900120048004024048120109124865'"
   ]
  },
  {
   "cell_type": "code",
   "execution_count": 4,
   "id": "12add315",
   "metadata": {
    "scrolled": true
   },
   "outputs": [],
   "source": [
    "import numpy as np\n",
    "\n",
    "def graphID_to_connectivity(graphID, path):\n",
    "    n_str, hexID = graphID.split(\"_\")\n",
    "    n = int(n_str)\n",
    "    binID = \"{:b}\".format(int(hexID, 16)) \n",
    "    binID = '0'*((n-1)*n//2 - len(binID)) + binID  \n",
    "    \n",
    "    adj = np.zeros([n,n], dtype=int)\n",
    "    pos = 0\n",
    "    for i in range(n):\n",
    "        for j in range(i+1,n): \n",
    "            adj[i][j] = adj[j][i] = int(binID[pos])\n",
    "            pos +=1 \n",
    "    with open(path, 'w') as file:\n",
    "        for row in adj:\n",
    "            file.write(str(row)[1:-1]+'\\n')\n",
    "\n",
    "            \n",
    "graphID = '16_900120048004024048120109124865'\n",
    "path = 'connectivities/grid16.txt'\n",
    "\n",
    "graphID_to_connectivity(graphID, path)"
   ]
  },
  {
   "attachments": {},
   "cell_type": "markdown",
   "id": "c40cc9ac",
   "metadata": {},
   "source": [
    "## Step 3: Configure job (not in this notebook)\n",
    "\n",
    "Open `{ROOT}/data/config.txt` and specify path names:\n",
    "\n",
    "- filename (input path for Hamiltonian), here: \"hamiltonians/examples/H4_bk.json\"\n",
    "- ``outfilename`` (output path for grouping), here: \"grouping_result/examples/H4_bk_lin.json\" \n",
    "\n",
    "You can specify the assumed hardware connectivity to which the readout circuits shall be tailored (default: linear).\n",
    "- ``connectivity`` (input path for file containing adjacency matrix), here \"connectivities/default_connectivity.txt\"\n"
   ]
  },
  {
   "attachments": {},
   "cell_type": "markdown",
   "id": "e409a89f",
   "metadata": {},
   "source": [
    "### Example for the file \"config.txt\"\n",
    "\n",
    "    # Configure your problem here.\n",
    "\n",
    "    # The filenames may be absolute: e.g., C:\\Users\\me\\Desktop\\myhamiltonian.txt)\n",
    "    # or relative to the data/ directory in the repository: e.g., ../myfolder/myhamiltonian.txt\n",
    "\n",
    "    filename = hamiltonians/examples/H4_bk.json\t\t\t\t# where to read the hamiltonian data from \n",
    "    outfilename = grouping_result/examples/H4_bk_lin_all_subgraphs.json\t# where to output the grouping\n",
    "    connectivity = connectivities/default_connectivity.txt\t# which connectivity file to use\n",
    "\n",
    "    numGraphs = 100000000         # Hyperparameter: Maximum number of random subgraphs\n",
    "    maxEdgeCount = 1000           # Hyperparameter: Maximum number of edges for subgraphs\n",
    "    sortGraphsByEdgeCount = true  # Sort possible subgraphs by edge count so graphs with lower edge count are preferred\n",
    "\n",
    "    numThreads = 8                # option for multithreading\n"
   ]
  },
  {
   "attachments": {},
   "cell_type": "markdown",
   "id": "d3d253e4",
   "metadata": {},
   "source": [
    "## Step 4: Run HT-Grouper (not in this notebook)\n",
    "\n",
    "Open the project (located at `{ROOT}/build/HT-Grouper.sln`).\n",
    "\n",
    "Press ``F5``.\n",
    "\n",
    "Recommendation: Change the configuration from *Debug* to *Release* at the top option bar to speed up the computation."
   ]
  },
  {
   "attachments": {},
   "cell_type": "markdown",
   "id": "dbdb48b5",
   "metadata": {},
   "source": [
    "## Step 5: Analyze expected performance of HT-grouping result"
   ]
  },
  {
   "cell_type": "code",
   "execution_count": 5,
   "id": "cc21791a",
   "metadata": {
    "scrolled": true
   },
   "outputs": [
    {
     "name": "stdout",
     "output_type": "stream",
     "text": [
      "Number of jointly-HT-measurable groups: 9\n",
      "Size distribution of groups: [37, 24, 22, 20, 26, 12, 16, 16, 12]\n",
      "Estimated shot reduction: 22.498713400246537 (HT over individual Pauli measurements) \n",
      "Estimated shot reduction: 1.905520342148904 (HT over tensor product bases) \n",
      "Estimated shot reduction: 1.8922168946842948 (GC over tensor product bases) \n"
     ]
    }
   ],
   "source": [
    "from ht_grouper_helpers import read_grouping_from_json, generate_readout_circuits\n",
    "from sorted_insertion import R_hat, sorted_insertion, sorted_insertion_qwc\n",
    "\n",
    "ht_grouping = read_grouping_from_json(\"grouping_result/examples/H4_bk_lin.json\")\n",
    "readout_circuits = generate_readout_circuits(ht_grouping)\n",
    "\n",
    "group_sizes = []\n",
    "\n",
    "for index, collection in enumerate(ht_grouping):\n",
    "    paulis = collection[\"operators\"]\n",
    "    group_sizes.append(len(paulis))\n",
    "    \n",
    "shot_reduction_ht = R_hat(ht_grouping, ham) # as defined in https://doi.org/10.22331/q-2021-01-20-385\n",
    "\n",
    "qwc_grouping = sorted_insertion_qwc(ham)\n",
    "shot_reduction_tpb = R_hat(qwc_grouping, ham)\n",
    "\n",
    "gc_grouping = sorted_insertion(ham)\n",
    "shot_reduction_gc = R_hat(gc_grouping, ham)\n",
    "\n",
    "\n",
    "print(f\"Number of jointly-HT-measurable groups: {len(ht_grouping)}\")\n",
    "print(f\"Size distribution of groups: {group_sizes}\")\n",
    "print(f\"Estimated shot reduction: {shot_reduction_ht} (HT over individual Pauli measurements) \")\n",
    "print(f\"Estimated shot reduction: {shot_reduction_ht/shot_reduction_tpb} (HT over tensor product bases) \")\n",
    "print(f\"Estimated shot reduction: {shot_reduction_gc/shot_reduction_tpb} (GC over tensor product bases) \")\n"
   ]
  },
  {
   "attachments": {},
   "cell_type": "markdown",
   "id": "5f6745a0",
   "metadata": {},
   "source": [
    "For this example, our HT-grouper outperforms *Sorted Insertion* (general commutativity).\n",
    "\n",
    "Note that this is a coincidence. In general, $\\hat{R}_\\mathrm{GC}$ should be regarded as an approximate upper bound to $\\hat{R}_\\mathrm{HT}$."
   ]
  },
  {
   "cell_type": "code",
   "execution_count": 7,
   "id": "8562d94e",
   "metadata": {
    "scrolled": true
   },
   "outputs": [
    {
     "name": "stdout",
     "output_type": "stream",
     "text": [
      "Collection 0:\n",
      "Number of measurable Pauli operators: 37\n",
      "Number of CZ-gates in readout circuit: 0\n",
      "Collection 1:\n",
      "Number of measurable Pauli operators: 24\n",
      "Number of CZ-gates in readout circuit: 0\n",
      "Collection 2:\n",
      "Number of measurable Pauli operators: 22\n",
      "Number of CZ-gates in readout circuit: 2\n",
      "Collection 3:\n",
      "Number of measurable Pauli operators: 20\n",
      "Number of CZ-gates in readout circuit: 4\n",
      "Collection 4:\n",
      "Number of measurable Pauli operators: 26\n",
      "Number of CZ-gates in readout circuit: 4\n",
      "Collection 5:\n",
      "Number of measurable Pauli operators: 12\n",
      "Number of CZ-gates in readout circuit: 0\n",
      "Collection 6:\n",
      "Number of measurable Pauli operators: 16\n",
      "Number of CZ-gates in readout circuit: 2\n",
      "Collection 7:\n",
      "Number of measurable Pauli operators: 16\n",
      "Number of CZ-gates in readout circuit: 2\n",
      "Collection 8:\n",
      "Number of measurable Pauli operators: 12\n",
      "Number of CZ-gates in readout circuit: 2\n"
     ]
    }
   ],
   "source": [
    "# print all readout circuits\n",
    "for index, (collection, circuit) in enumerate(zip(ht_grouping, readout_circuits)):\n",
    "    print(f'Collection {index}:')\n",
    "    paulis = collection[\"operators\"]\n",
    "    print(f'Number of measurable Pauli operators: {len(paulis)}')\n",
    "    cz_gates = collection[\"edges\"]\n",
    "    print(f'Number of CZ-gates in readout circuit: {len(cz_gates)}')\n",
    "  \n",
    "    ### uncomment to see the circuits\n",
    "    # print(circuit)"
   ]
  },
  {
   "attachments": {},
   "cell_type": "markdown",
   "id": "aa817527",
   "metadata": {},
   "source": [
    "# Step 6:"
   ]
  },
  {
   "cell_type": "code",
   "execution_count": 10,
   "id": "665b75da",
   "metadata": {},
   "outputs": [
    {
     "name": "stdout",
     "output_type": "stream",
     "text": [
      "      ┌────────────────────────────┐ \n",
      "q_0: ─┤ U(0.25537,0.49151,0.74434) ├─\n",
      "      ├────────────────────────────┤ \n",
      "q_1: ─┤ U(0.41878,0.44567,0.61634) ├─\n",
      "      ├────────────────────────────┤ \n",
      "q_2: ─┤ U(0.38243,0.93333,0.81887) ├─\n",
      "      ├───────────────────────────┬┘ \n",
      "q_3: ─┤ U(0.9099,0.60809,0.09343) ├──\n",
      "      ├───────────────────────────┴┐ \n",
      "q_4: ─┤ U(0.73008,0.54282,0.55825) ├─\n",
      "     ┌┴────────────────────────────┴┐\n",
      "q_5: ┤ U(0.98868,0.0093016,0.80042) ├\n",
      "     └┬───────────────────────────┬─┘\n",
      "q_6: ─┤ U(0.94852,0.47769,0.0159) ├──\n",
      "      ├───────────────────────────┴┐ \n",
      "q_7: ─┤ U(0.17272,0.70811,0.57534) ├─\n",
      "      └────────────────────────────┘ \n"
     ]
    }
   ],
   "source": [
    "from qiskit import Aer, execute, QuantumCircuit\n",
    "\n",
    "qc_prep = QuantumCircuit(8) # state preparation circuit\n",
    "\n",
    "# Here random, separable initialization\n",
    "for i in range(8):\n",
    "    qc_prep.u(*np.random.rand(3), i)\n",
    "print(qc_prep)"
   ]
  },
  {
   "cell_type": "code",
   "execution_count": 11,
   "id": "8f35d83a",
   "metadata": {},
   "outputs": [
    {
     "data": {
      "text/plain": [
       "(0.027737820248780798+0j)"
      ]
     },
     "execution_count": 11,
     "metadata": {},
     "output_type": "execute_result"
    }
   ],
   "source": [
    "def pauli_to_matrix(pauli):\n",
    "    out = 1\n",
    "    for i in range(len(pauli)):\n",
    "        if pauli[i] == 'I':\n",
    "            out = np.kron(out, np.eye(2))\n",
    "        elif pauli[i] == 'X':\n",
    "            out = np.kron(out, np.array([[0,1],[1,0]]))\n",
    "        elif pauli[i] == 'Y':\n",
    "            out = np.kron(out, np.array([[0,-1j],[1j,0]]))\n",
    "        elif pauli[i] == 'Z':\n",
    "            out = np.kron(out, np.diag([1,-1]))\n",
    "    return out\n",
    "\n",
    "\n",
    "p = 'XZXZIIII'[::-1]\n",
    "\n",
    "pmat = pauli_to_matrix(p)\n",
    "from qiskit import Aer, execute\n",
    "psi = np.array(execute(qc_prep, backend=Aer.get_backend('statevector_simulator')).result().get_statevector())\n",
    "\n",
    "np.conj(psi.T)@pmat@psi\n",
    "\n"
   ]
  },
  {
   "cell_type": "code",
   "execution_count": 12,
   "id": "1da511a5",
   "metadata": {
    "scrolled": false
   },
   "outputs": [
    {
     "data": {
      "text/plain": [
       "{Pauli('IIIIIIII'): 1.0,\n",
       " Pauli('IIIIZZZI'): 0.5206,\n",
       " Pauli('ZZZIZIII'): 0.1902,\n",
       " Pauli('IIIIIIIZ'): 0.969,\n",
       " Pauli('IIIZIIII'): 0.7556,\n",
       " Pauli('ZZZIIZZI'): 0.2632,\n",
       " Pauli('ZZZIZIIZ'): 0.1864,\n",
       " Pauli('IIIZZZZI'): 0.3842,\n",
       " Pauli('IIIZIIIZ'): 0.7322,\n",
       " Pauli('ZZZIZZII'): 0.18,\n",
       " Pauli('IZIIZZZI'): 0.3056,\n",
       " Pauli('IZIIIZII'): 0.5368,\n",
       " Pauli('ZZZIZIZZ'): 0.1672,\n",
       " Pauli('IIZZZZZI'): 0.2082,\n",
       " Pauli('IIZZIIZZ'): 0.3694,\n",
       " Pauli('IIZZIZII'): 0.3798,\n",
       " Pauli('IZIIIIZZ'): 0.5096,\n",
       " Pauli('IIIZIZII'): 0.6978,\n",
       " Pauli('IZIIIIIZ'): 0.5564,\n",
       " Pauli('IIIZIIZZ'): 0.667,\n",
       " Pauli('IIZZIIIZ'): 0.4038,\n",
       " Pauli('IIIIZZZZ'): 0.506,\n",
       " Pauli('ZZZZZIII'): 0.143,\n",
       " Pauli('ZZIZZIII'): 0.2702,\n",
       " Pauli('IIIIZZIZ'): 0.5572,\n",
       " Pauli('IIZZIIII'): 0.4136,\n",
       " Pauli('IIIIIIZZ'): 0.8862,\n",
       " Pauli('IZIZIIII'): 0.4314,\n",
       " Pauli('IIIIIZIZ'): 0.8968,\n",
       " Pauli('IIIIZIZI'): 0.5588,\n",
       " Pauli('ZIZIZIII'): 0.3344,\n",
       " Pauli('IZIIIIII'): 0.5754,\n",
       " Pauli('IIIIIZII'): 0.9258,\n",
       " Pauli('IZZZIIII'): 0.2262,\n",
       " Pauli('IIIIIZZZ'): 0.8204,\n",
       " Pauli('IIIIIIZI'): 0.916,\n",
       " Pauli('IIZIIIII'): 0.5504,\n",
       " Pauli('IXIIIXII'): 0.1756,\n",
       " Pauli('ZXZIZXII'): 0.0456,\n",
       " Pauli('ZXZIIXZI'): 0.0852,\n",
       " Pauli('IXIIZXZI'): 0.0928,\n",
       " Pauli('IIIXIIIX'): 0.1288,\n",
       " Pauli('IIZXIIZX'): 0.0706,\n",
       " Pauli('IIIXIIZX'): 0.1148,\n",
       " Pauli('IIZXIIIX'): 0.0762,\n",
       " Pauli('IXIIIIIX'): 0.1538,\n",
       " Pauli('ZXZIZIIX'): 0.0518,\n",
       " Pauli('IXIIIIZX'): 0.137,\n",
       " Pauli('ZXZIZIZX'): 0.043,\n",
       " Pauli('IIIXIXII'): 0.1402,\n",
       " Pauli('IIZXIXII'): 0.062,\n",
       " Pauli('IIIXZXZI'): 0.0638,\n",
       " Pauli('IIZXZXZI'): 0.0308,\n",
       " Pauli('ZXIXZIII'): 0.2524,\n",
       " Pauli('IXIXIIII'): 0.4222,\n",
       " Pauli('IIIIZXIX'): 0.0218,\n",
       " Pauli('IIIIIXIX'): 0.0518,\n",
       " Pauli('IIIIIXZX'): 0.0442,\n",
       " Pauli('ZXZXZIII'): 0.125,\n",
       " Pauli('IXZXIIII'): 0.2192,\n",
       " Pauli('IIIIZXZX'): 0.0238,\n",
       " Pauli('IYYZIXXI'): -0.0064,\n",
       " Pauli('IXXIIXXI'): 0.0686,\n",
       " Pauli('IIIIIIXI'): 0.372,\n",
       " Pauli('IXXIIXII'): 0.1342,\n",
       " Pauli('IYYZIXII'): 0.002,\n",
       " Pauli('IXXIIIIX'): 0.126,\n",
       " Pauli('IYYZIIIX'): 0.0014,\n",
       " Pauli('ZIXXIIXX'): 0.0336,\n",
       " Pauli('IZYYZIXX'): -0.0068,\n",
       " Pauli('IIIIIXXX'): 0.0098,\n",
       " Pauli('ZIXXZXXI'): 0.0344,\n",
       " Pauli('IXXIZIXX'): 0.0182,\n",
       " Pauli('IYYZZIXX'): 0.0132,\n",
       " Pauli('IZYYIXXI'): 0.0096,\n",
       " Pauli('ZYZYZIII'): 0.0272,\n",
       " Pauli('IYZYIIII'): 0.0506,\n",
       " Pauli('IIIIZXXX'): 0.008,\n",
       " Pauli('ZIXXZIIX'): 0.0546,\n",
       " Pauli('IZYYIIIX'): -0.0086,\n",
       " Pauli('IIIIZIXI'): 0.211,\n",
       " Pauli('ZIXXZXII'): 0.0684,\n",
       " Pauli('IZYYIXII'): 0.016,\n",
       " Pauli('IYYZIYYZ'): -0.0168,\n",
       " Pauli('IXXIIYYZ'): 0.0326,\n",
       " Pauli('IIIIZZXZ'): 0.2098,\n",
       " Pauli('IXXIZXZI'): 0.0768,\n",
       " Pauli('IYYZZXZI'): -0.0094,\n",
       " Pauli('IXXIIIZX'): 0.1308,\n",
       " Pauli('IYYZIIZX'): -0.0086,\n",
       " Pauli('ZIXXZZYY'): 0.024,\n",
       " Pauli('IZYYIZYY'): 0.003,\n",
       " Pauli('IIIIIYXY'): 0.007,\n",
       " Pauli('IZYYIYYZ'): -0.0024,\n",
       " Pauli('ZIXXZYYZ'): 0.009,\n",
       " Pauli('IXXIIZYY'): 0.0172,\n",
       " Pauli('IYYZIZYY'): 0.0058,\n",
       " Pauli('IIIIZYXY'): -0.0152,\n",
       " Pauli('IZYYIIZX'): 0.0054,\n",
       " Pauli('ZIXXZIZX'): 0.0548,\n",
       " Pauli('IIIIIZXZ'): 0.33,\n",
       " Pauli('IZYYZXZI'): -0.0042,\n",
       " Pauli('ZIXXIXZI'): 0.0872,\n",
       " Pauli('IXYYIXYY'): -0.003,\n",
       " Pauli('IYYXIXYY'): 0.006,\n",
       " Pauli('IYYXIYYX'): 0.0008,\n",
       " Pauli('IXYYIYYX'): -0.0074,\n",
       " Pauli('IZXIZIXZ'): 0.0994,\n",
       " Pauli('ZIXZIIXZ'): 0.2236,\n",
       " Pauli('ZIXZZZXI'): 0.1214,\n",
       " Pauli('IZXIIZXI'): 0.166,\n",
       " Pauli('IXYYIZXI'): -0.0046,\n",
       " Pauli('ZIXZZYYX'): 0.019,\n",
       " Pauli('IXYYZIXZ'): -0.0128,\n",
       " Pauli('IYYXIZXI'): -0.01,\n",
       " Pauli('IYYXZIXZ'): -0.0162,\n",
       " Pauli('IZXIIYYX'): 0.0008,\n",
       " Pauli('IZXIIXYY'): 0.0024,\n",
       " Pauli('ZIXZZXYY'): 0.0118,\n",
       " Pauli('IZXIIIII'): 0.4786,\n",
       " Pauli('ZIXZZIII'): 0.378,\n",
       " Pauli('IIIIIZXI'): 0.3526,\n",
       " Pauli('IIIIZIXZ'): 0.2216,\n",
       " Pauli('IIIIZYZY'): 0.0266,\n",
       " Pauli('IIIIIYZY'): 0.048,\n",
       " Pauli('IXYYIIII'): -0.014,\n",
       " Pauli('IYYXIIII'): -0.0098,\n",
       " Pauli('IIIIIYYX'): 0.0026,\n",
       " Pauli('IIIIIXYY'): -0.003,\n",
       " Pauli('IIXIIIII'): 0.8394,\n",
       " Pauli('ZZXZZIII'): 0.2124,\n",
       " Pauli('IZXIZZZI'): 0.2524,\n",
       " Pauli('ZIXZIZZI'): 0.5198,\n",
       " Pauli('ZIXZZIIZ'): 0.3644,\n",
       " Pauli('IZXIIIIZ'): 0.4882,\n",
       " Pauli('IZXZIIII'): 0.3738,\n",
       " Pauli('ZIXIZIII'): 0.498,\n",
       " Pauli('IZXIIIZZ'): 0.4428,\n",
       " Pauli('ZIXZZIZZ'): 0.3306,\n",
       " Pauli('IZXIIZII'): 0.472,\n",
       " Pauli('ZIXZZZII'): 0.3454,\n",
       " Pauli('ZXZIZYYZ'): 0.0124,\n",
       " Pauli('IXIIIYYZ'): 0.0346,\n",
       " Pauli('ZXZIZXXI'): 0.0184,\n",
       " Pauli('IXIIIXXI'): 0.0686,\n",
       " Pauli('IIIXIXXI'): 0.0486,\n",
       " Pauli('IIZXIYYZ'): 0.0186,\n",
       " Pauli('IIZXIXXI'): 0.0254,\n",
       " Pauli('IIIXIYYZ'): 0.0354,\n",
       " Pauli('IIIXZIXX'): 0.0266,\n",
       " Pauli('IIZXZIXX'): 0.0098,\n",
       " Pauli('IIIXIZYY'): 0.0132,\n",
       " Pauli('IIZXIZYY'): 0.0196,\n",
       " Pauli('IXIIIZYY'): 0.0124,\n",
       " Pauli('IXIIZIXX'): 0.041,\n",
       " Pauli('ZXZIIIXX'): 0.0264,\n",
       " Pauli('ZXZIZZYY'): 0.0058,\n",
       " Pauli('ZZZIIIXZ'): 0.1108,\n",
       " Pauli('ZZZIZZXI'): 0.0728,\n",
       " Pauli('ZZZIZXYY'): -0.0012,\n",
       " Pauli('ZZZIZYYX'): -0.0022,\n",
       " Pauli('IIIZIZXI'): 0.2648,\n",
       " Pauli('IIIZZIXZ'): 0.1628,\n",
       " Pauli('IIIZIYYX'): 0.0054,\n",
       " Pauli('IIIZIXYY'): 0.0036,\n",
       " Pauli('IIZZIYYX'): 0.017,\n",
       " Pauli('IIZZIXYY'): 0.0132,\n",
       " Pauli('IZIIIYYX'): 0.0054,\n",
       " Pauli('IZIIIXYY'): 0.0028,\n",
       " Pauli('IIZZIZXI'): 0.1512,\n",
       " Pauli('IIZZZIXZ'): 0.1112,\n",
       " Pauli('IZIIIZXI'): 0.2012,\n",
       " Pauli('IZIIZIXZ'): 0.1368,\n",
       " Pauli('IXXXIIII'): 0.3524,\n",
       " Pauli('IYXYIIII'): 0.1004,\n",
       " Pauli('IXYYZZZI'): -0.0028,\n",
       " Pauli('IYYXZZZI'): 0.0044,\n",
       " Pauli('IXYYIIIZ'): -0.0098,\n",
       " Pauli('IYYXIIIZ'): 0.0066,\n",
       " Pauli('ZYXYZIII'): 0.0538,\n",
       " Pauli('ZXXXZIII'): 0.2258,\n",
       " Pauli('IXYYIIZZ'): -0.008,\n",
       " Pauli('IYYXIIZZ'): 0.0028,\n",
       " Pauli('IXYYIZII'): -0.0032,\n",
       " Pauli('IYYXIZII'): 0.0084}"
      ]
     },
     "execution_count": 12,
     "metadata": {},
     "output_type": "execute_result"
    }
   ],
   "source": [
    "from ht_grouper_helpers import HamiltonianExperiment\n",
    "\n",
    "experiment = HamiltonianExperiment(qc_prep, ht_grouping, ham)\n",
    "\n",
    "shots_per_circuit = 10000 # note that equal shot allocation is suboptimal --> https://doi.org/10.22331/q-2021-01-20-385\n",
    "job = experiment.simulate(shots=shots_per_circuit)\n",
    "\n",
    "experiment.evaluate(job)"
   ]
  }
 ],
 "metadata": {
  "kernelspec": {
   "display_name": "Python 3 (ipykernel)",
   "language": "python",
   "name": "python3"
  },
  "language_info": {
   "codemirror_mode": {
    "name": "ipython",
    "version": 3
   },
   "file_extension": ".py",
   "mimetype": "text/x-python",
   "name": "python",
   "nbconvert_exporter": "python",
   "pygments_lexer": "ipython3",
   "version": "3.10.5"
  }
 },
 "nbformat": 4,
 "nbformat_minor": 5
}
