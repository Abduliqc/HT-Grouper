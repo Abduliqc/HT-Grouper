{
 "cells": [
  {
   "cell_type": "markdown",
   "id": "dc0ee10a",
   "metadata": {},
   "source": [
    "# Workflow Example\n",
    "\n",
    "This file should be contained in the `{root}/data/` folder.\n",
    "\n"
   ]
  },
  {
   "cell_type": "markdown",
   "id": "d5eb907b",
   "metadata": {},
   "source": [
    "## Step 1: Prepare Hamiltonian"
   ]
  },
  {
   "cell_type": "code",
   "execution_count": 1,
   "id": "0ecf2c5b",
   "metadata": {},
   "outputs": [],
   "source": [
    "from ht_grouper_helpers import write_hamiltonian\n",
    "\n",
    "ham = {\"IIIIIIII\": -2.624579060173102,  \"IIIIIIZI\": -0.07904417087465629,  \"IIIIIZII\": 0.06963766679823809,  \"IIIIZIII\": 0.1813649242546771,  \"IIIIZIZI\": 0.08454049626310602,  \"IIIIZZII\": 0.08792660899667015,  \"IIIIZZZI\": 0.07761988828992306,  \"IIIZIZIZ\": 0.0794386006168131,  \"IIIZIZZZ\": -0.3346123458132604,  \"IIIZZIZZ\": 0.08982499647657266,  \"IIIZZZZZ\": 0.10647091296616065,  \"IIZIIIII\": -0.07904417087465622,  \"IIZIIIZI\": 0.1168514042959076,  \"IIZIZIII\": 0.11149831432137883,  \"IIZIZZII\": 0.11194107542768723,  \"IIZZIZZZ\": 0.12005437336308761,  \"IZIIIIII\": 0.06963766679823809,  \"IZIZIIII\": 0.0794386006168131,  \"IZZIIZZZ\": 0.14526192015947448,  \"IZZZIIII\": -0.33461234581326055,  \"IZZZIIZI\": 0.12005437336308761,  \"IZZZZIII\": 0.13073850353772143,  \"IZZZZZII\": 0.11598612054758822,  \"ZIIIIIII\": 0.18136492425467743,  \"ZIIIIIZI\": 0.11149831432137883,  \"ZIIIZIII\": 0.12432167547296145,  \"ZIIIZZII\": 0.10898280176407836,  \"ZIIZIZZZ\": 0.13073850353772143,  \"ZIZIIIII\": 0.08454049626310602,  \"ZIZZIIII\": 0.08982499647657266,  \"ZZIIIIII\": 0.08792660899666997,  \"ZZIIIIZI\": 0.11194107542768723,  \"ZZIIZIII\": 0.10898280176407836,  \"ZZIIZZII\": 0.11340652637318277,  \"ZZIZIZZZ\": 0.11598612054758822,  \"ZZZIIIII\": 0.07761988828992306,  \"ZZZZIIII\": 0.10647091296616065,  \"IIIIIXII\": 0.02554524310593115,  \"IIIIIXZI\": -0.01726459683389079,  \"IIIIZXZI\": 0.010290722790561629,  \"IIIZIXIZ\": -0.010290722790561629,  \"IIIZZXIZ\": 0.01726459683389079,  \"IIIZZXZZ\": -0.02554524310593115,  \"IIZIIXZI\": 0.0007033107955335648,  \"IIZZZXIZ\": -0.0007033107955335648,  \"IZZIZXIZ\": -0.023384612774806107,  \"IZZZIXZI\": 0.023384612774806107,  \"ZIIIIXZI\": 0.021062076540351606,  \"ZIIZZXIZ\": -0.021062076540351606,  \"ZZIIIXZI\": 0.001013869592018545,  \"ZZIZZXIZ\": -0.001013869592018545,  \"IIIIXIXI\": -0.02441822842470195,  \"IIIIXZXI\": 0.013029985419546652,  \"IIIIYZYI\": -0.01138824300515531,  \"IIIZXIXZ\": -0.02441822842470195,  \"IIIZXZXZ\": 0.013029985419546652,  \"IIIZYZYZ\": -0.01138824300515531,  \"IIIIXXXI\": -0.022049003978125037,  \"IIIIXYYI\": -0.00556065318530374,  \"IIIIYXYI\": -0.022049003978125037,  \"IIIIYYXI\": 0.00556065318530374,  \"IIIZXXXZ\": 0.011234312732252972,  \"IIIZYXYZ\": 0.011234312732252972,  \"IIZIXYYI\": -0.0017153824135075152,  \"IIZIYYXI\": 0.0017153824135075152,  \"IZZZXYYI\": -0.021476995247468093,  \"IZZZYYXI\": 0.021476995247468093,  \"ZIIIXYYI\": -0.020391532177805285,  \"ZIIIYYXI\": 0.020391532177805285,  \"ZZIIXYYI\": 0.002451500187231129,  \"ZZIIYYXI\": -0.002451500187231129,  \"IIXIIIXI\": 0.040615772746274495,  \"IIXZIZXZ\": -0.040615772746274495,  \"IZXIIZXZ\": 0.040615772746274495,  \"IZXZIIXI\": -0.040615772746274495,  \"IIXIIXXI\": 0.02484193231039758,  \"IIXIZYYI\": 0.02484193231039758,  \"IZXZIXXI\": -0.02484193231039758,  \"IZXZZYYI\": -0.02484193231039758,  \"IIXIXIII\": -0.037658003841522666,  \"IIXIXZII\": 0.037658003841522666,  \"IZXZXIII\": 0.037658003841522666,  \"IZXZXZII\": -0.037658003841522666,  \"IIXIYYZI\": -0.010242682515215124,  \"IIXZXXIZ\": -0.010242682515215124,  \"IZXIXXIZ\": 0.010242682515215124,  \"IZXZYYZI\": 0.010242682515215124,  \"IXIIIIII\": 0.02554524310593115,  \"IXIZIIII\": -0.010290722790561629,  \"IXZIIIII\": -0.01726459683389078,  \"IXZIIIZI\": 0.0007033107955335648,  \"IXZIZIII\": 0.021062076540351606,  \"IXZIZZII\": 0.001013869592018545,  \"IXZZIZZZ\": 0.023384612774806107,  \"ZXIIIZZZ\": -0.023384612774806107,  \"ZXIZIIII\": 0.01726459683389078,  \"ZXIZIIZI\": -0.0007033107955335648,  \"ZXIZZIII\": -0.021062076540351606,  \"ZXIZZZII\": -0.001013869592018545,  \"ZXZIIIII\": 0.010290722790561629,  \"ZXZZIIII\": -0.02554524310593115,  \"IXZIIXZI\": 0.02616112407101557,  \"IXZZZXIZ\": -0.02616112407101557,  \"ZXIIZXIZ\": 0.02616112407101557,  \"ZXIZIXZI\": -0.02616112407101557,  \"IXZIXYYI\": -0.024628018421976018,  \"IXZIYYXI\": 0.024628018421976018,  \"ZXIZXYYI\": 0.024628018421976018,  \"ZXIZYYXI\": -0.024628018421976018,  \"IXXIIIXI\": 0.02484193231039758,  \"IXXZIZXZ\": -0.02484193231039758,  \"ZYYIIIXI\": 0.02484193231039758,  \"ZYYZIZXZ\": -0.02484193231039758,  \"IXXIIXXI\": 0.03432118713776418,  \"IXXIZYYI\": 0.03432118713776418,  \"ZYYIIXXI\": 0.03432118713776418,  \"ZYYIZYYI\": 0.03432118713776418,  \"IXXIXIII\": -0.024500504165356166,  \"IXXIXZII\": 0.024500504165356166, \"ZYYIXIII\": -0.024500504165356166,  \"ZYYIXZII\": 0.024500504165356166,  \"IXXIYYZI\": 0.013239775416820712,  \"IXXZXXIZ\": 0.013239775416820712,  \"ZYYIYYZI\": 0.013239775416820712,  \"ZYYZXXIZ\": 0.013239775416820712, \"XIIIIIXI\": -0.037658003841522666,  \"XIIZIZXZ\": 0.037658003841522666,  \"XZIIIIXI\": 0.037658003841522666,  \"XZIZIZXZ\": -0.037658003841522666,  \"XIIIIXXI\": -0.02450050416535616,  \"XIIIZYYI\": -0.02450050416535616,  \"XZIIIXXI\": 0.02450050416535616,  \"XZIIZYYI\": 0.02450050416535616,  \"XIIIXIII\": 0.03934513496584029,  \"XIIIXZII\": -0.03934513496584029,  \"XZIIXIII\": -0.03934513496584029,  \"XZIIXZII\": 0.03934513496584029,  \"XIIIYYZI\": 0.01077135374978998,  \"XIIZXXIZ\": 0.01077135374978998,  \"XZIIYYZI\": -0.01077135374978998,  \"XZIZXXIZ\": -0.01077135374978998,  \"XIXIIIII\": -0.02441822842470195,  \"XIXZIIII\": -0.02441822842470195,  \"XZXIIIII\": 0.013029985419546652,  \"XZXZIIII\": 0.013029985419546652,  \"YZYIIIII\": -0.01138824300515531,  \"YZYZIIII\": -0.01138824300515531,  \"XXIIIZXZ\": 0.010242682515215124,  \"XXIZIIXI\": -0.010242682515215124,  \"YYZIIIXI\": -0.010242682515215124,  \"YYZZIZXZ\": 0.010242682515215124,  \"XXIZIXXI\": 0.013239775416820712,  \"XXIZZYYI\": 0.013239775416820712,  \"YYZIIXXI\": 0.013239775416820712,  \"YYZIZYYI\": 0.013239775416820712,  \"XXIZXIII\": 0.01077135374978998,  \"XXIZXZII\": -0.01077135374978998,  \"YYZIXIII\": 0.01077135374978998,  \"YYZIXZII\": -0.01077135374978998,  \"XXIIXXIZ\": 0.024267590571560763,  \"XXIZYYZI\": 0.024267590571560763,  \"YYZIYYZI\": 0.024267590571560763,  \"YYZZXXIZ\": 0.024267590571560763,  \"XXXIIIII\": -0.022049003978125037,  \"XXXZIIII\": 0.011234312732252972,  \"XYYIIIII\": -0.005560653185303723,  \"XYYIIIZI\": -0.0017153824135075152,  \"XYYIZIII\": -0.020391532177805285,  \"XYYIZZII\": 0.002451500187231129,  \"XYYZIZZZ\": -0.021476995247468093,  \"YXYIIIII\": -0.022049003978125037,  \"YXYZIIII\": 0.011234312732252972,  \"YYXIIIII\": 0.005560653185303723,  \"YYXIIIZI\": 0.0017153824135075152,  \"YYXIZIII\": 0.020391532177805285,  \"YYXIZZII\": -0.002451500187231129,  \"YYXZIZZZ\": 0.021476995247468093,  \"XYYIIXZI\": -0.024628018421976018,  \"XYYZZXIZ\": 0.024628018421976018,  \"YYXIIXZI\": 0.024628018421976018,  \"YYXZZXIZ\": -0.024628018421976018,  \"XYYIXYYI\": 0.026957818058272826,  \"XYYIYYXI\": -0.026957818058272826,  \"YYXIXYYI\": -0.026957818058272826,  \"YYXIYYXI\": 0.026957818058272826}\n",
    "write_hamiltonian(\"hamiltonians/examples/H4_bk.json\", ham, True)\n"
   ]
  },
  {
   "cell_type": "markdown",
   "id": "804e3daf",
   "metadata": {},
   "source": [
    "## Step 2: Prepare Hardware Connectivity\n",
    "\n",
    "You can use GraphStateVis to draw the connectivity graph of your quantum chip:\n",
    "\n",
    "https://graphvis.uber.space/?graph=16_900120048004024048120109124865\n",
    "\n",
    "\n",
    "After compltetion, copy the graphID, e.g., '16_900120048004024048120109124865'"
   ]
  },
  {
   "cell_type": "code",
   "execution_count": 2,
   "id": "6e7b0e2e",
   "metadata": {
    "scrolled": true
   },
   "outputs": [],
   "source": [
    "import numpy as np\n",
    "\n",
    "def graphID_to_connectivity(graphID, path):\n",
    "    n_str, hexID = graphID.split(\"_\")\n",
    "    n = int(n_str)\n",
    "    binID = \"{:b}\".format(int(hexID, 16)) \n",
    "    binID = '0'*((n-1)*n//2 - len(binID)) + binID  \n",
    "    \n",
    "    adj = np.zeros([n,n], dtype=int)\n",
    "    pos = 0\n",
    "    for i in range(n):\n",
    "        for j in range(i+1,n): \n",
    "            adj[i][j] = adj[j][i] = int(binID[pos])\n",
    "            pos +=1 \n",
    "    with open(path, 'w') as file:\n",
    "        for row in adj:\n",
    "            file.write(str(row)[1:-1]+'\\n')\n",
    "\n",
    "            \n",
    "graphID = '16_900120048004024048120109124865'\n",
    "path = 'connectivities/grid16.txt'\n",
    "\n",
    "graphID_to_connectivity(graphID, path)"
   ]
  },
  {
   "cell_type": "markdown",
   "id": "7e6ed14a",
   "metadata": {},
   "source": [
    "## Step 3: Configure job (not in this notebook)\n",
    "\n",
    "Open `{root}/data/config.txt` and specify path names:\n",
    "\n",
    "- filename (input path for Hamiltonian), here: \"hamiltonians/examples/H4_bk.json\"\n",
    "- outfilename (output path for grouping), here: \"grouping_result/examples/H4_bk_lin.json\" \n",
    "\n",
    "You can specify the assumed hardware connectivity to which the readout circuits shall be tailored (default: linear).\n",
    "- connectivity (input path for file containing adjacency matrix), here \"connectivities/default_connectivity.txt\"\n"
   ]
  },
  {
   "cell_type": "markdown",
   "id": "3fc25064",
   "metadata": {},
   "source": [
    "## Step 4: Run HT-Grouper (not in this notebook)\n",
    "\n",
    "Open the project (located at `{root}/build/HT-Grouper.sln`).\n",
    "\n",
    "Press F5.\n",
    "\n",
    "Recommendation: Change the configuration from *Debug* to *Release* at the top option bar to speed up the computation."
   ]
  },
  {
   "cell_type": "markdown",
   "id": "992243da",
   "metadata": {},
   "source": [
    "## Step 5: Analyze expected performance of HT-grouping result"
   ]
  },
  {
   "cell_type": "code",
   "execution_count": 8,
   "id": "cc21791a",
   "metadata": {
    "scrolled": true
   },
   "outputs": [
    {
     "name": "stdout",
     "output_type": "stream",
     "text": [
      "Number of jointly-HT-measurable groups: 9\n",
      "Size distribution of groups: [37, 24, 22, 20, 26, 12, 16, 16, 12]\n",
      "Estimated shot reduction: 22.498713400246537 (HT over individual Pauli measurements) \n",
      "Estimated shot reduction: 1.905520342148904 (HT over tensor product bases) \n",
      "Estimated shot reduction: 1.8922168946842948 (GC over tensor product bases) \n"
     ]
    }
   ],
   "source": [
    "from ht_grouper_helpers import  read_grouping, generate_readout_circuits\n",
    "from sorted_insertion import R_hat, sorted_insertion, sorted_insertion_qwc\n",
    "\n",
    "ht_grouping = read_grouping(\"grouping_result/examples/H4_bk_lin.json\")\n",
    "readout_circuits = generate_readout_circuits(ht_grouping)\n",
    "\n",
    "\n",
    "\n",
    "group_sizes =[]\n",
    "\n",
    "for index, collection in enumerate(ht_grouping):\n",
    "    paulis = collection[\"operators\"]\n",
    "    group_sizes.append(len(paulis))\n",
    "    \n",
    "shot_reduction_ht = R_hat(ht_grouping, ham) # as defined in https://doi.org/10.22331/q-2021-01-20-385\n",
    "\n",
    "qwc_grouping = sorted_insertion_qwc(ham)\n",
    "shot_reduction_tpb = R_hat(qwc_grouping, ham)\n",
    "\n",
    "gc_grouping = sorted_insertion(ham)\n",
    "shot_reduction_gc = R_hat(gc_grouping, ham)\n",
    "\n",
    "\n",
    "print(f\"Number of jointly-HT-measurable groups: {len(ht_grouping)}\")\n",
    "print(f\"Size distribution of groups: {group_sizes}\")\n",
    "print(f\"Estimated shot reduction: {shot_reduction_ht} (HT over individual Pauli measurements) \")\n",
    "print(f\"Estimated shot reduction: {shot_reduction_ht/shot_reduction_tpb} (HT over tensor product bases) \")\n",
    "print(f\"Estimated shot reduction: {shot_reduction_gc/shot_reduction_tpb} (GC over tensor product bases) \")\n"
   ]
  },
  {
   "cell_type": "markdown",
   "id": "6cb2f78e",
   "metadata": {},
   "source": [
    "For this example, our HT-grouper ouperforms Sorted Insertion (general commutativity).\n",
    "\n",
    "Note that this is a coincidence.\n",
    "\n",
    "In general, R^_GC should be regarded as an approximate upper bound to R^_HT."
   ]
  },
  {
   "cell_type": "code",
   "execution_count": 9,
   "id": "8562d94e",
   "metadata": {
    "scrolled": false
   },
   "outputs": [
    {
     "name": "stdout",
     "output_type": "stream",
     "text": [
      "Collection 0:\n",
      "Number of measurable Pauli operators: 37\n",
      "Number of CZ-gates in readout circuit: 0\n",
      "Collection 1:\n",
      "Number of measurable Pauli operators: 24\n",
      "Number of CZ-gates in readout circuit: 0\n",
      "Collection 2:\n",
      "Number of measurable Pauli operators: 22\n",
      "Number of CZ-gates in readout circuit: 2\n",
      "Collection 3:\n",
      "Number of measurable Pauli operators: 20\n",
      "Number of CZ-gates in readout circuit: 4\n",
      "Collection 4:\n",
      "Number of measurable Pauli operators: 26\n",
      "Number of CZ-gates in readout circuit: 4\n",
      "Collection 5:\n",
      "Number of measurable Pauli operators: 12\n",
      "Number of CZ-gates in readout circuit: 0\n",
      "Collection 6:\n",
      "Number of measurable Pauli operators: 16\n",
      "Number of CZ-gates in readout circuit: 2\n",
      "Collection 7:\n",
      "Number of measurable Pauli operators: 16\n",
      "Number of CZ-gates in readout circuit: 2\n",
      "Collection 8:\n",
      "Number of measurable Pauli operators: 12\n",
      "Number of CZ-gates in readout circuit: 2\n"
     ]
    }
   ],
   "source": [
    "# print all readout circuits\n",
    "for index, (collection, circuit) in enumerate(zip(ht_grouping, readout_circuits)):\n",
    "    print(f'Collection {index}:')\n",
    "    paulis = collection[\"operators\"]\n",
    "    print(f'Number of measurable Pauli operators: {len(paulis)}')\n",
    "    cz_gates = collection[\"edges\"]\n",
    "    print(f'Number of CZ-gates in readout circuit: {len(cz_gates)}')\n",
    "  \n",
    "    ### uncomment to see the circuits\n",
    "    #print(circuit)\n"
   ]
  },
  {
   "cell_type": "markdown",
   "id": "a89bbe78",
   "metadata": {},
   "source": [
    "# Step :"
   ]
  },
  {
   "cell_type": "code",
   "execution_count": null,
   "id": "a9c16187",
   "metadata": {},
   "outputs": [],
   "source": [
    "from qiskit import QuantumCircuit\n",
    "\n",
    "qc_prep = QuantumCircuit(8) # state preparation circuit\n",
    "\n",
    "# Here random, separable initialization\n",
    "for i in range(8):\n",
    "    qc_prep.u(*np.random.rand(3), i)\n",
    "print(qc_prep)"
   ]
  },
  {
   "cell_type": "code",
   "execution_count": 4,
   "id": "356f1ed2",
   "metadata": {},
   "outputs": [
    {
     "ename": "NameError",
     "evalue": "name 'qc_prep' is not defined",
     "output_type": "error",
     "traceback": [
      "\u001b[1;31m---------------------------------------------------------------------------\u001b[0m",
      "\u001b[1;31mNameError\u001b[0m                                 Traceback (most recent call last)",
      "Cell \u001b[1;32mIn[4], line 3\u001b[0m\n\u001b[0;32m      1\u001b[0m \u001b[38;5;28;01mfrom\u001b[39;00m \u001b[38;5;21;01mht_grouper_helpers\u001b[39;00m \u001b[38;5;28;01mimport\u001b[39;00m HamiltonianExperiment\n\u001b[1;32m----> 3\u001b[0m experiment \u001b[38;5;241m=\u001b[39m HamiltonianExperiment(\u001b[43mqc_prep\u001b[49m, ht_grouping, ham)\n",
      "\u001b[1;31mNameError\u001b[0m: name 'qc_prep' is not defined"
     ]
    }
   ],
   "source": [
    "from ht_grouper_helpers import HamiltonianExperiment\n",
    "\n",
    "experiment = HamiltonianExperiment(qc_prep, ht_grouping, ham)"
   ]
  },
  {
   "cell_type": "code",
   "execution_count": null,
   "id": "4e92d367",
   "metadata": {},
   "outputs": [],
   "source": [
    "ht_grouping"
   ]
  },
  {
   "cell_type": "code",
   "execution_count": null,
   "id": "a6df6991",
   "metadata": {
    "scrolled": false
   },
   "outputs": [],
   "source": [
    "sorted_paulis = {\n",
    "        k: v for k, v in sorted(ham.items(), key=lambda item: abs(item[1]))[::-1]\n",
    "    }\n",
    "\n",
    "sorted_paulis"
   ]
  },
  {
   "cell_type": "code",
   "execution_count": null,
   "id": "93135bd9",
   "metadata": {},
   "outputs": [],
   "source": [
    "'IIZIXYYI'[::-1]"
   ]
  },
  {
   "cell_type": "code",
   "execution_count": null,
   "id": "b0713c76",
   "metadata": {},
   "outputs": [],
   "source": []
  }
 ],
 "metadata": {
  "kernelspec": {
   "display_name": "Python 3 (ipykernel)",
   "language": "python",
   "name": "python3"
  },
  "language_info": {
   "codemirror_mode": {
    "name": "ipython",
    "version": 3
   },
   "file_extension": ".py",
   "mimetype": "text/x-python",
   "name": "python",
   "nbconvert_exporter": "python",
   "pygments_lexer": "ipython3",
   "version": "3.8.5"
  }
 },
 "nbformat": 4,
 "nbformat_minor": 5
}
