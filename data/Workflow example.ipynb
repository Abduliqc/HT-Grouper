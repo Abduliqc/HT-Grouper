{
 "cells": [
  {
   "cell_type": "code",
   "execution_count": 1,
   "id": "c05c4c6c",
   "metadata": {},
   "outputs": [
    {
     "data": {
      "text/plain": [
       "{'qiskit-terra': '0.24.0', 'qiskit-aer': '0.12.0', 'qiskit-ignis': '0.4.0', 'qiskit-ibmq-provider': None, 'qiskit': '0.20.1', 'qiskit-nature': None, 'qiskit-finance': None, 'qiskit-optimization': None, 'qiskit-machine-learning': None}"
      ]
     },
     "execution_count": 1,
     "metadata": {},
     "output_type": "execute_result"
    }
   ],
   "source": [
    "import qiskit\n",
    "qiskit.__qiskit_version__"
   ]
  },
  {
   "cell_type": "markdown",
   "id": "1bd96df9",
   "metadata": {},
   "source": [
    "# Workflow Example\n",
    "\n",
    "This file should be contained in the `{root}/data/` folder.\n",
    "\n"
   ]
  },
  {
   "cell_type": "code",
   "execution_count": 2,
   "id": "de371732",
   "metadata": {},
   "outputs": [],
   "source": [
    "%load_ext autoreload\n",
    "%autoreload 2"
   ]
  },
  {
   "cell_type": "markdown",
   "id": "ca6af66e",
   "metadata": {},
   "source": [
    "## Step 1: Prepare Hamiltonian"
   ]
  },
  {
   "cell_type": "code",
   "execution_count": 3,
   "id": "0ecf2c5b",
   "metadata": {},
   "outputs": [],
   "source": [
    "from ht_grouper_helpers import write_hamiltonian_to_json\n",
    "\n",
    "ham = {\"IIIIIIII\": -2.624579060173102,  \"IIIIIIZI\": -0.07904417087465629,  \"IIIIIZII\": 0.06963766679823809,  \"IIIIZIII\": 0.1813649242546771,  \"IIIIZIZI\": 0.08454049626310602,  \"IIIIZZII\": 0.08792660899667015,  \"IIIIZZZI\": 0.07761988828992306,  \"IIIZIZIZ\": 0.0794386006168131,  \"IIIZIZZZ\": -0.3346123458132604,  \"IIIZZIZZ\": 0.08982499647657266,  \"IIIZZZZZ\": 0.10647091296616065,  \"IIZIIIII\": -0.07904417087465622,  \"IIZIIIZI\": 0.1168514042959076,  \"IIZIZIII\": 0.11149831432137883,  \"IIZIZZII\": 0.11194107542768723,  \"IIZZIZZZ\": 0.12005437336308761,  \"IZIIIIII\": 0.06963766679823809,  \"IZIZIIII\": 0.0794386006168131,  \"IZZIIZZZ\": 0.14526192015947448,  \"IZZZIIII\": -0.33461234581326055,  \"IZZZIIZI\": 0.12005437336308761,  \"IZZZZIII\": 0.13073850353772143,  \"IZZZZZII\": 0.11598612054758822,  \"ZIIIIIII\": 0.18136492425467743,  \"ZIIIIIZI\": 0.11149831432137883,  \"ZIIIZIII\": 0.12432167547296145,  \"ZIIIZZII\": 0.10898280176407836,  \"ZIIZIZZZ\": 0.13073850353772143,  \"ZIZIIIII\": 0.08454049626310602,  \"ZIZZIIII\": 0.08982499647657266,  \"ZZIIIIII\": 0.08792660899666997,  \"ZZIIIIZI\": 0.11194107542768723,  \"ZZIIZIII\": 0.10898280176407836,  \"ZZIIZZII\": 0.11340652637318277,  \"ZZIZIZZZ\": 0.11598612054758822,  \"ZZZIIIII\": 0.07761988828992306,  \"ZZZZIIII\": 0.10647091296616065,  \"IIIIIXII\": 0.02554524310593115,  \"IIIIIXZI\": -0.01726459683389079,  \"IIIIZXZI\": 0.010290722790561629,  \"IIIZIXIZ\": -0.010290722790561629,  \"IIIZZXIZ\": 0.01726459683389079,  \"IIIZZXZZ\": -0.02554524310593115,  \"IIZIIXZI\": 0.0007033107955335648,  \"IIZZZXIZ\": -0.0007033107955335648,  \"IZZIZXIZ\": -0.023384612774806107,  \"IZZZIXZI\": 0.023384612774806107,  \"ZIIIIXZI\": 0.021062076540351606,  \"ZIIZZXIZ\": -0.021062076540351606,  \"ZZIIIXZI\": 0.001013869592018545,  \"ZZIZZXIZ\": -0.001013869592018545,  \"IIIIXIXI\": -0.02441822842470195,  \"IIIIXZXI\": 0.013029985419546652,  \"IIIIYZYI\": -0.01138824300515531,  \"IIIZXIXZ\": -0.02441822842470195,  \"IIIZXZXZ\": 0.013029985419546652,  \"IIIZYZYZ\": -0.01138824300515531,  \"IIIIXXXI\": -0.022049003978125037,  \"IIIIXYYI\": -0.00556065318530374,  \"IIIIYXYI\": -0.022049003978125037,  \"IIIIYYXI\": 0.00556065318530374,  \"IIIZXXXZ\": 0.011234312732252972,  \"IIIZYXYZ\": 0.011234312732252972,  \"IIZIXYYI\": -0.0017153824135075152,  \"IIZIYYXI\": 0.0017153824135075152,  \"IZZZXYYI\": -0.021476995247468093,  \"IZZZYYXI\": 0.021476995247468093,  \"ZIIIXYYI\": -0.020391532177805285,  \"ZIIIYYXI\": 0.020391532177805285,  \"ZZIIXYYI\": 0.002451500187231129,  \"ZZIIYYXI\": -0.002451500187231129,  \"IIXIIIXI\": 0.040615772746274495,  \"IIXZIZXZ\": -0.040615772746274495,  \"IZXIIZXZ\": 0.040615772746274495,  \"IZXZIIXI\": -0.040615772746274495,  \"IIXIIXXI\": 0.02484193231039758,  \"IIXIZYYI\": 0.02484193231039758,  \"IZXZIXXI\": -0.02484193231039758,  \"IZXZZYYI\": -0.02484193231039758,  \"IIXIXIII\": -0.037658003841522666,  \"IIXIXZII\": 0.037658003841522666,  \"IZXZXIII\": 0.037658003841522666,  \"IZXZXZII\": -0.037658003841522666,  \"IIXIYYZI\": -0.010242682515215124,  \"IIXZXXIZ\": -0.010242682515215124,  \"IZXIXXIZ\": 0.010242682515215124,  \"IZXZYYZI\": 0.010242682515215124,  \"IXIIIIII\": 0.02554524310593115,  \"IXIZIIII\": -0.010290722790561629,  \"IXZIIIII\": -0.01726459683389078,  \"IXZIIIZI\": 0.0007033107955335648,  \"IXZIZIII\": 0.021062076540351606,  \"IXZIZZII\": 0.001013869592018545,  \"IXZZIZZZ\": 0.023384612774806107,  \"ZXIIIZZZ\": -0.023384612774806107,  \"ZXIZIIII\": 0.01726459683389078,  \"ZXIZIIZI\": -0.0007033107955335648,  \"ZXIZZIII\": -0.021062076540351606,  \"ZXIZZZII\": -0.001013869592018545,  \"ZXZIIIII\": 0.010290722790561629,  \"ZXZZIIII\": -0.02554524310593115,  \"IXZIIXZI\": 0.02616112407101557,  \"IXZZZXIZ\": -0.02616112407101557,  \"ZXIIZXIZ\": 0.02616112407101557,  \"ZXIZIXZI\": -0.02616112407101557,  \"IXZIXYYI\": -0.024628018421976018,  \"IXZIYYXI\": 0.024628018421976018,  \"ZXIZXYYI\": 0.024628018421976018,  \"ZXIZYYXI\": -0.024628018421976018,  \"IXXIIIXI\": 0.02484193231039758,  \"IXXZIZXZ\": -0.02484193231039758,  \"ZYYIIIXI\": 0.02484193231039758,  \"ZYYZIZXZ\": -0.02484193231039758,  \"IXXIIXXI\": 0.03432118713776418,  \"IXXIZYYI\": 0.03432118713776418,  \"ZYYIIXXI\": 0.03432118713776418,  \"ZYYIZYYI\": 0.03432118713776418,  \"IXXIXIII\": -0.024500504165356166,  \"IXXIXZII\": 0.024500504165356166, \"ZYYIXIII\": -0.024500504165356166,  \"ZYYIXZII\": 0.024500504165356166,  \"IXXIYYZI\": 0.013239775416820712,  \"IXXZXXIZ\": 0.013239775416820712,  \"ZYYIYYZI\": 0.013239775416820712,  \"ZYYZXXIZ\": 0.013239775416820712, \"XIIIIIXI\": -0.037658003841522666,  \"XIIZIZXZ\": 0.037658003841522666,  \"XZIIIIXI\": 0.037658003841522666,  \"XZIZIZXZ\": -0.037658003841522666,  \"XIIIIXXI\": -0.02450050416535616,  \"XIIIZYYI\": -0.02450050416535616,  \"XZIIIXXI\": 0.02450050416535616,  \"XZIIZYYI\": 0.02450050416535616,  \"XIIIXIII\": 0.03934513496584029,  \"XIIIXZII\": -0.03934513496584029,  \"XZIIXIII\": -0.03934513496584029,  \"XZIIXZII\": 0.03934513496584029,  \"XIIIYYZI\": 0.01077135374978998,  \"XIIZXXIZ\": 0.01077135374978998,  \"XZIIYYZI\": -0.01077135374978998,  \"XZIZXXIZ\": -0.01077135374978998,  \"XIXIIIII\": -0.02441822842470195,  \"XIXZIIII\": -0.02441822842470195,  \"XZXIIIII\": 0.013029985419546652,  \"XZXZIIII\": 0.013029985419546652,  \"YZYIIIII\": -0.01138824300515531,  \"YZYZIIII\": -0.01138824300515531,  \"XXIIIZXZ\": 0.010242682515215124,  \"XXIZIIXI\": -0.010242682515215124,  \"YYZIIIXI\": -0.010242682515215124,  \"YYZZIZXZ\": 0.010242682515215124,  \"XXIZIXXI\": 0.013239775416820712,  \"XXIZZYYI\": 0.013239775416820712,  \"YYZIIXXI\": 0.013239775416820712,  \"YYZIZYYI\": 0.013239775416820712,  \"XXIZXIII\": 0.01077135374978998,  \"XXIZXZII\": -0.01077135374978998,  \"YYZIXIII\": 0.01077135374978998,  \"YYZIXZII\": -0.01077135374978998,  \"XXIIXXIZ\": 0.024267590571560763,  \"XXIZYYZI\": 0.024267590571560763,  \"YYZIYYZI\": 0.024267590571560763,  \"YYZZXXIZ\": 0.024267590571560763,  \"XXXIIIII\": -0.022049003978125037,  \"XXXZIIII\": 0.011234312732252972,  \"XYYIIIII\": -0.005560653185303723,  \"XYYIIIZI\": -0.0017153824135075152,  \"XYYIZIII\": -0.020391532177805285,  \"XYYIZZII\": 0.002451500187231129,  \"XYYZIZZZ\": -0.021476995247468093,  \"YXYIIIII\": -0.022049003978125037,  \"YXYZIIII\": 0.011234312732252972,  \"YYXIIIII\": 0.005560653185303723,  \"YYXIIIZI\": 0.0017153824135075152,  \"YYXIZIII\": 0.020391532177805285,  \"YYXIZZII\": -0.002451500187231129,  \"YYXZIZZZ\": 0.021476995247468093,  \"XYYIIXZI\": -0.024628018421976018,  \"XYYZZXIZ\": 0.024628018421976018,  \"YYXIIXZI\": 0.024628018421976018,  \"YYXZZXIZ\": -0.024628018421976018,  \"XYYIXYYI\": 0.026957818058272826,  \"XYYIYYXI\": -0.026957818058272826,  \"YYXIXYYI\": -0.026957818058272826,  \"YYXIYYXI\": 0.026957818058272826}\n",
    "write_hamiltonian_to_json(\"hamiltonians/examples/H4_bk.json\", ham)"
   ]
  },
  {
   "cell_type": "markdown",
   "id": "5f0dace3",
   "metadata": {},
   "source": [
    "## Step 2: Prepare Hardware Connectivity\n",
    "\n",
    "You can use GraphStateVis to draw the connectivity graph of your quantum chip:\n",
    "\n",
    "https://graphvis.uber.space/?graph=16_900120048004024048120109124865\n",
    "\n",
    "\n",
    "After compltetion, copy the graphID, e.g., '16_900120048004024048120109124865'"
   ]
  },
  {
   "cell_type": "code",
   "execution_count": 4,
   "id": "c1d80251",
   "metadata": {
    "scrolled": true
   },
   "outputs": [],
   "source": [
    "import numpy as np\n",
    "\n",
    "def graphID_to_connectivity(graphID, path):\n",
    "    n_str, hexID = graphID.split(\"_\")\n",
    "    n = int(n_str)\n",
    "    binID = \"{:b}\".format(int(hexID, 16)) \n",
    "    binID = '0'*((n-1)*n//2 - len(binID)) + binID  \n",
    "    \n",
    "    adj = np.zeros([n,n], dtype=int)\n",
    "    pos = 0\n",
    "    for i in range(n):\n",
    "        for j in range(i+1,n): \n",
    "            adj[i][j] = adj[j][i] = int(binID[pos])\n",
    "            pos +=1 \n",
    "    with open(path, 'w') as file:\n",
    "        for row in adj:\n",
    "            file.write(str(row)[1:-1]+'\\n')\n",
    "\n",
    "            \n",
    "graphID = '16_900120048004024048120109124865'\n",
    "path = 'connectivities/grid16.txt'\n",
    "\n",
    "graphID_to_connectivity(graphID, path)"
   ]
  },
  {
   "cell_type": "markdown",
   "id": "9095b4bf",
   "metadata": {},
   "source": [
    "## Step 3: Configure job (not in this notebook)\n",
    "\n",
    "Open `{root}/data/config.txt` and specify path names:\n",
    "\n",
    "- filename (input path for Hamiltonian), here: \"hamiltonians/examples/H4_bk.json\"\n",
    "- outfilename (output path for grouping), here: \"grouping_result/examples/H4_bk_lin.json\" \n",
    "\n",
    "You can specify the assumed hardware connectivity to which the readout circuits shall be tailored (default: linear).\n",
    "- connectivity (input path for file containing adjacency matrix), here \"connectivities/default_connectivity.txt\"\n"
   ]
  },
  {
   "cell_type": "markdown",
   "id": "fa867a4f",
   "metadata": {},
   "source": [
    "## Step 4: Run HT-Grouper (not in this notebook)\n",
    "\n",
    "Open the project (located at `{root}/build/HT-Grouper.sln`).\n",
    "\n",
    "Press F5.\n",
    "\n",
    "Recommendation: Change the configuration from *Debug* to *Release* at the top option bar to speed up the computation."
   ]
  },
  {
   "cell_type": "markdown",
   "id": "72338da8",
   "metadata": {},
   "source": [
    "## Step 5: Analyze expected performance of HT-grouping result"
   ]
  },
  {
   "cell_type": "code",
   "execution_count": 5,
   "id": "cc21791a",
   "metadata": {
    "scrolled": true
   },
   "outputs": [
    {
     "name": "stdout",
     "output_type": "stream",
     "text": [
      "Number of jointly-HT-measurable groups: 9\n",
      "Size distribution of groups: [37, 24, 22, 20, 26, 12, 16, 16, 12]\n",
      "Estimated shot reduction: 22.498713400246537 (HT over individual Pauli measurements) \n",
      "Estimated shot reduction: 1.905520342148904 (HT over tensor product bases) \n",
      "Estimated shot reduction: 1.8922168946842948 (GC over tensor product bases) \n"
     ]
    }
   ],
   "source": [
    "from ht_grouper_helpers import  read_grouping_from_json, generate_readout_circuits\n",
    "from sorted_insertion import R_hat, sorted_insertion, sorted_insertion_qwc\n",
    "\n",
    "ht_grouping = read_grouping_from_json(\"grouping_result/examples/H4_bk_lin.json\")\n",
    "readout_circuits = generate_readout_circuits(ht_grouping)\n",
    "\n",
    "\n",
    "\n",
    "group_sizes =[]\n",
    "\n",
    "for index, collection in enumerate(ht_grouping):\n",
    "    paulis = collection[\"operators\"]\n",
    "    group_sizes.append(len(paulis))\n",
    "    \n",
    "shot_reduction_ht = R_hat(ht_grouping, ham) # as defined in https://doi.org/10.22331/q-2021-01-20-385\n",
    "\n",
    "qwc_grouping = sorted_insertion_qwc(ham)\n",
    "shot_reduction_tpb = R_hat(qwc_grouping, ham)\n",
    "\n",
    "gc_grouping = sorted_insertion(ham)\n",
    "shot_reduction_gc = R_hat(gc_grouping, ham)\n",
    "\n",
    "\n",
    "print(f\"Number of jointly-HT-measurable groups: {len(ht_grouping)}\")\n",
    "print(f\"Size distribution of groups: {group_sizes}\")\n",
    "print(f\"Estimated shot reduction: {shot_reduction_ht} (HT over individual Pauli measurements) \")\n",
    "print(f\"Estimated shot reduction: {shot_reduction_ht/shot_reduction_tpb} (HT over tensor product bases) \")\n",
    "print(f\"Estimated shot reduction: {shot_reduction_gc/shot_reduction_tpb} (GC over tensor product bases) \")\n"
   ]
  },
  {
   "cell_type": "markdown",
   "id": "6c63b359",
   "metadata": {},
   "source": [
    "For this example, our HT-grouper ouperforms Sorted Insertion (general commutativity).\n",
    "\n",
    "Note that this is a coincidence.\n",
    "\n",
    "In general, R^_GC should be regarded as an approximate upper bound to R^_HT."
   ]
  },
  {
   "cell_type": "code",
   "execution_count": 6,
   "id": "8562d94e",
   "metadata": {
    "scrolled": true
   },
   "outputs": [
    {
     "name": "stdout",
     "output_type": "stream",
     "text": [
      "Collection 0:\n",
      "Number of measurable Pauli operators: 37\n",
      "Number of CZ-gates in readout circuit: 0\n",
      "     \n",
      "q_0: \n",
      "     \n",
      "q_1: \n",
      "     \n",
      "q_2: \n",
      "     \n",
      "q_3: \n",
      "     \n",
      "q_4: \n",
      "     \n",
      "q_5: \n",
      "     \n",
      "q_6: \n",
      "     \n",
      "q_7: \n",
      "     \n",
      "Collection 1:\n",
      "Number of measurable Pauli operators: 24\n",
      "Number of CZ-gates in readout circuit: 0\n",
      "     ┌───┐\n",
      "q_0: ┤ H ├\n",
      "     └───┘\n",
      "q_1: ─────\n",
      "     ┌───┐\n",
      "q_2: ┤ H ├\n",
      "     └───┘\n",
      "q_3: ─────\n",
      "     ┌───┐\n",
      "q_4: ┤ H ├\n",
      "     └───┘\n",
      "q_5: ─────\n",
      "     ┌───┐\n",
      "q_6: ┤ H ├\n",
      "     └───┘\n",
      "q_7: ─────\n",
      "          \n",
      "Collection 2:\n",
      "Number of measurable Pauli operators: 22\n",
      "Number of CZ-gates in readout circuit: 2\n",
      "     ┌───┐             \n",
      "q_0: ┤ H ├─────────────\n",
      "     ├───┤             \n",
      "q_1: ┤ H ├─────────────\n",
      "     ├───┤             \n",
      "q_2: ┤ H ├─────────────\n",
      "     └───┘             \n",
      "q_3: ──────────────────\n",
      "             ┌───┐     \n",
      "q_4: ──────■─┤ H ├─────\n",
      "     ┌───┐ │ └───┘┌───┐\n",
      "q_5: ┤ H ├─■───■──┤ H ├\n",
      "     └───┘     │  ├───┤\n",
      "q_6: ──────────■──┤ H ├\n",
      "                  └───┘\n",
      "q_7: ──────────────────\n",
      "                       \n",
      "Collection 3:\n",
      "Number of measurable Pauli operators: 20\n",
      "Number of CZ-gates in readout circuit: 4\n",
      "          ┌───┐          \n",
      "q_0: ──■──┤ H ├──────────\n",
      "       │  └───┘┌───┐     \n",
      "q_1: ──■────■──┤ H ├─────\n",
      "            │  ├───┤     \n",
      "q_2: ───────■──┤ H ├─────\n",
      "               └───┘     \n",
      "q_3: ────────────────────\n",
      "               ┌───┐     \n",
      "q_4: ───────■──┤ H ├─────\n",
      "     ┌───┐  │  └───┘┌───┐\n",
      "q_5: ┤ H ├──■────■──┤ H ├\n",
      "     └───┘       │  ├───┤\n",
      "q_6: ────────────■──┤ H ├\n",
      "                    └───┘\n",
      "q_7: ────────────────────\n",
      "                         \n",
      "Collection 4:\n",
      "Number of measurable Pauli operators: 26\n",
      "Number of CZ-gates in readout circuit: 4\n",
      "     ┌───┐   ┌───┐     \n",
      "q_0: ┤ H ├─■─┤ H ├─────\n",
      "     ├───┤ │ └───┘┌───┐\n",
      "q_1: ┤ H ├─■───■──┤ H ├\n",
      "     ├───┤     │  ├───┤\n",
      "q_2: ┤ H ├─────■──┤ H ├\n",
      "     └───┘        └───┘\n",
      "q_3: ──────────────────\n",
      "     ┌───┐   ┌───┐     \n",
      "q_4: ┤ H ├─■─┤ H ├─────\n",
      "     ├───┤ │ └───┘┌───┐\n",
      "q_5: ┤ H ├─■───■──┤ H ├\n",
      "     ├───┤     │  ├───┤\n",
      "q_6: ┤ H ├─────■──┤ H ├\n",
      "     └───┘        └───┘\n",
      "q_7: ──────────────────\n",
      "                       \n",
      "Collection 5:\n",
      "Number of measurable Pauli operators: 12\n",
      "Number of CZ-gates in readout circuit: 0\n",
      "          \n",
      "q_0: ─────\n",
      "          \n",
      "q_1: ─────\n",
      "          \n",
      "q_2: ─────\n",
      "          \n",
      "q_3: ─────\n",
      "          \n",
      "q_4: ─────\n",
      "     ┌───┐\n",
      "q_5: ┤ H ├\n",
      "     └───┘\n",
      "q_6: ─────\n",
      "          \n",
      "q_7: ─────\n",
      "          \n",
      "Collection 6:\n",
      "Number of measurable Pauli operators: 16\n",
      "Number of CZ-gates in readout circuit: 2\n",
      "             ┌───┐     \n",
      "q_0: ──────■─┤ H ├─────\n",
      "     ┌───┐ │ └───┘┌───┐\n",
      "q_1: ┤ H ├─■───■──┤ H ├\n",
      "     └───┘     │  ├───┤\n",
      "q_2: ──────────■──┤ H ├\n",
      "                  └───┘\n",
      "q_3: ──────────────────\n",
      "     ┌───┐             \n",
      "q_4: ┤ H ├─────────────\n",
      "     └───┘             \n",
      "q_5: ──────────────────\n",
      "     ┌───┐             \n",
      "q_6: ┤ H ├─────────────\n",
      "     └───┘             \n",
      "q_7: ──────────────────\n",
      "                       \n",
      "Collection 7:\n",
      "Number of measurable Pauli operators: 16\n",
      "Number of CZ-gates in readout circuit: 2\n",
      "     ┌───┐   ┌───┐     \n",
      "q_0: ┤ H ├─■─┤ H ├─────\n",
      "     ├───┤ │ └───┘┌───┐\n",
      "q_1: ┤ H ├─■───■──┤ H ├\n",
      "     ├───┤     │  ├───┤\n",
      "q_2: ┤ H ├─────■──┤ H ├\n",
      "     └───┘        └───┘\n",
      "q_3: ──────────────────\n",
      "                       \n",
      "q_4: ──────────────────\n",
      "                       \n",
      "q_5: ──────────────────\n",
      "                       \n",
      "q_6: ──────────────────\n",
      "                       \n",
      "q_7: ──────────────────\n",
      "                       \n",
      "Collection 8:\n",
      "Number of measurable Pauli operators: 12\n",
      "Number of CZ-gates in readout circuit: 2\n",
      "                       \n",
      "q_0: ──────────────────\n",
      "                       \n",
      "q_1: ──────────────────\n",
      "                       \n",
      "q_2: ──────────────────\n",
      "                       \n",
      "q_3: ──────────────────\n",
      "     ┌───┐   ┌───┐     \n",
      "q_4: ┤ H ├─■─┤ H ├─────\n",
      "     └───┘ │ └───┘┌───┐\n",
      "q_5: ──────■───■──┤ H ├\n",
      "     ┌───┐     │  ├───┤\n",
      "q_6: ┤ H ├─────■──┤ H ├\n",
      "     └───┘        └───┘\n",
      "q_7: ──────────────────\n",
      "                       \n"
     ]
    }
   ],
   "source": [
    "# print all readout circuits\n",
    "for index, (collection, circuit) in enumerate(zip(ht_grouping, readout_circuits)):\n",
    "    print(f'Collection {index}:')\n",
    "    paulis = collection[\"operators\"]\n",
    "    print(f'Number of measurable Pauli operators: {len(paulis)}')\n",
    "    cz_gates = collection[\"edges\"]\n",
    "    print(f'Number of CZ-gates in readout circuit: {len(cz_gates)}')\n",
    "  \n",
    "    ### uncomment to see the circuits\n",
    "    print(circuit)\n"
   ]
  },
  {
   "cell_type": "markdown",
   "id": "665f3ee7",
   "metadata": {},
   "source": [
    "# Step 6:"
   ]
  },
  {
   "cell_type": "code",
   "execution_count": 7,
   "id": "d2319043",
   "metadata": {},
   "outputs": [
    {
     "name": "stdout",
     "output_type": "stream",
     "text": [
      "      ┌────────────────────────────┐\n",
      "q_0: ─┤ U(0.98791,0.37514,0.17176) ├\n",
      "      ├────────────────────────────┤\n",
      "q_1: ─┤ U(0.43885,0.67985,0.43166) ├\n",
      "      ├────────────────────────────┤\n",
      "q_2: ─┤ U(0.88691,0.51467,0.71091) ├\n",
      "      ├────────────────────────────┤\n",
      "q_3: ─┤ U(0.63252,0.31197,0.94995) ├\n",
      "     ┌┴────────────────────────────┤\n",
      "q_4: ┤ U(0.085732,0.33971,0.83031) ├\n",
      "     └┬────────────────────────────┤\n",
      "q_5: ─┤ U(0.12276,0.33979,0.49077) ├\n",
      "      ├───────────────────────────┬┘\n",
      "q_6: ─┤ U(0.3638,0.59121,0.03677) ├─\n",
      "      ├───────────────────────────┤ \n",
      "q_7: ─┤ U(0.20666,0.58173,0.6969) ├─\n",
      "      └───────────────────────────┘ \n"
     ]
    }
   ],
   "source": [
    "from qiskit import Aer, execute, QuantumCircuit\n",
    "\n",
    "qc_prep = QuantumCircuit(8) # state preparation circuit\n",
    "\n",
    "# Here random, separable initialization\n",
    "for i in range(8):\n",
    "    qc_prep.u(*np.random.rand(3), i)\n",
    "print(qc_prep)"
   ]
  },
  {
   "cell_type": "code",
   "execution_count": 8,
   "id": "914034cf",
   "metadata": {},
   "outputs": [],
   "source": [
    "from qiskit import Aer"
   ]
  },
  {
   "cell_type": "code",
   "execution_count": 22,
   "id": "85ad6fca",
   "metadata": {},
   "outputs": [
    {
     "data": {
      "text/plain": [
       "(0.3826717151738479+0j)"
      ]
     },
     "execution_count": 22,
     "metadata": {},
     "output_type": "execute_result"
    }
   ],
   "source": [
    "def pauli_to_matrix(pauli):\n",
    "    out = 1\n",
    "    for i in range(len(pauli)):\n",
    "        if pauli[i] == 'I':\n",
    "            out = np.kron(out, np.eye(2))\n",
    "        elif pauli[i] == 'X':\n",
    "            out = np.kron(out, np.array([[0,1],[1,0]]))\n",
    "        elif pauli[i] == 'Y':\n",
    "            out = np.kron(out, np.array([[0,-1j],[1j,0]]))\n",
    "        elif pauli[i] == 'Z':\n",
    "            out = np.kron(out, np.diag([1,-1]))\n",
    "    return out\n",
    "\n",
    "\n",
    "p = 'XZXZIIII'[::-1]\n",
    "\n",
    "pmat = pauli_to_matrix(p)\n",
    "\n",
    "psi = np.array(execute(qc_prep, backend=Aer.get_backend('statevector_simulator')).result().get_statevector())\n",
    "\n",
    "np.conj(psi.T)@pmat@psi\n",
    "\n"
   ]
  },
  {
   "cell_type": "code",
   "execution_count": 23,
   "id": "dc15a538",
   "metadata": {
    "scrolled": false
   },
   "outputs": [
    {
     "data": {
      "text/plain": [
       "{Pauli('IIIIIIII'): 1,\n",
       " Pauli('IZZZIIII'): 0.9244,\n",
       " Pauli('IIIZIZZZ'): 0.3258,\n",
       " Pauli('ZIIIIIII'): 0.9766,\n",
       " Pauli('IIIIZIII'): 0.813,\n",
       " Pauli('IZZIIZZZ'): 0.3014,\n",
       " Pauli('ZIIZIZZZ'): 0.3208,\n",
       " Pauli('IZZZZIII'): 0.7506,\n",
       " Pauli('ZIIIZIII'): 0.7952,\n",
       " Pauli('IIZZIZZZ'): 0.3234,\n",
       " Pauli('IZZZIIZI'): 0.8366,\n",
       " Pauli('IIZIIIZI'): 0.8978,\n",
       " Pauli('ZZIZIZZZ'): 0.2974,\n",
       " Pauli('IZZZZZII'): 0.4766,\n",
       " Pauli('ZZIIZZII'): 0.471,\n",
       " Pauli('IIZIZZII'): 0.5138,\n",
       " Pauli('ZZIIIIZI'): 0.8254,\n",
       " Pauli('IIZIZIII'): 0.8094,\n",
       " Pauli('ZIIIIIZI'): 0.882,\n",
       " Pauli('ZZIIZIII'): 0.741,\n",
       " Pauli('ZIIIZZII'): 0.506,\n",
       " Pauli('ZZZZIIII'): 0.9022,\n",
       " Pauli('IIIZZZZZ'): 0.2608,\n",
       " Pauli('IIIZZIZZ'): 0.4108,\n",
       " Pauli('ZIZZIIII'): 0.9668,\n",
       " Pauli('IIIIZZII'): 0.5154,\n",
       " Pauli('ZZIIIIII'): 0.9116,\n",
       " Pauli('IIIIZIZI'): 0.7328,\n",
       " Pauli('ZIZIIIII'): 0.9718,\n",
       " Pauli('IZIZIIII'): 0.9296,\n",
       " Pauli('IIIZIZIZ'): 0.3628,\n",
       " Pauli('IIIIIIZI'): 0.9026,\n",
       " Pauli('IIZIIIII'): 0.9948,\n",
       " Pauli('IIIIZZZI'): 0.468,\n",
       " Pauli('ZZZIIIII'): 0.9068,\n",
       " Pauli('IZIIIIII'): 0.9342,\n",
       " Pauli('IIIIIZII'): 0.6356,\n",
       " Pauli('IIXIIIXI'): 1.0,\n",
       " Pauli('IIXZIZXZ'): 1.0,\n",
       " Pauli('IZXIIZXZ'): 1.0,\n",
       " Pauli('IZXZIIXI'): 1.0,\n",
       " Pauli('XIIIXIII'): 1.0,\n",
       " Pauli('XZIIXZII'): 1.0,\n",
       " Pauli('XZIIXIII'): 1.0,\n",
       " Pauli('XIIIXZII'): 1.0,\n",
       " Pauli('XIIIIIXI'): 1.0,\n",
       " Pauli('XIIZIZXZ'): 1.0,\n",
       " Pauli('XZIIIIXI'): 1.0,\n",
       " Pauli('XZIZIZXZ'): 1.0,\n",
       " Pauli('IIXIXIII'): 1.0,\n",
       " Pauli('IIXIXZII'): 1.0,\n",
       " Pauli('IZXZXIII'): 1.0,\n",
       " Pauli('IZXZXZII'): 1.0,\n",
       " Pauli('IIIZXIXZ'): 1.0,\n",
       " Pauli('IIIIXIXI'): 1.0,\n",
       " Pauli('XIXZIIII'): 1.0,\n",
       " Pauli('XIXIIIII'): 1.0,\n",
       " Pauli('XZXIIIII'): 1.0,\n",
       " Pauli('IIIZXZXZ'): 1.0,\n",
       " Pauli('IIIIXZXI'): 1.0,\n",
       " Pauli('XZXZIIII'): 1.0,\n",
       " Pauli('IXXIZYYI'): 0.028,\n",
       " Pauli('IXXIIXXI'): 0.0386,\n",
       " Pauli('IXIIIIII'): 0.0394,\n",
       " Pauli('IIXIIXXI'): 0.2236,\n",
       " Pauli('IIXIZYYI'): 0.1734,\n",
       " Pauli('XIIIIXXI'): 0.2236,\n",
       " Pauli('XIIIZYYI'): 0.1734,\n",
       " Pauli('XXIIXXIZ'): 0.0228,\n",
       " Pauli('XXIZYYZI'): -0.011,\n",
       " Pauli('XXXIIIII'): 0.0394,\n",
       " Pauli('IXXZXXIZ'): 0.0228,\n",
       " Pauli('XXIZIXXI'): 0.0386,\n",
       " Pauli('XXIZZYYI'): 0.028,\n",
       " Pauli('IXXIYYZI'): -0.011,\n",
       " Pauli('IIIZYZYZ'): -0.2636,\n",
       " Pauli('IIIIYZYI'): -0.2636,\n",
       " Pauli('XXXZIIII'): 0.0394,\n",
       " Pauli('XIIZXXIZ'): 0.6678,\n",
       " Pauli('XIIIYYZI'): -0.5364,\n",
       " Pauli('IXIZIIII'): 0.0394,\n",
       " Pauli('IIXZXXIZ'): 0.6678,\n",
       " Pauli('IIXIYYZI'): -0.5364,\n",
       " Pauli('ZYYIZYYI'): -0.0038,\n",
       " Pauli('ZYYIIXXI'): -0.001,\n",
       " Pauli('ZXZZIIII'): -0.0122,\n",
       " Pauli('IZXZIXXI'): 0.07,\n",
       " Pauli('IZXZZYYI'): 0.0604,\n",
       " Pauli('XZIIIXXI'): 0.07,\n",
       " Pauli('XZIIZYYI'): 0.0604,\n",
       " Pauli('YYZZXXIZ'): -0.017,\n",
       " Pauli('YYZIYYZI'): 0.0118,\n",
       " Pauli('YXYIIIII'): 0.0122,\n",
       " Pauli('ZYYIYYZI'): -0.0118,\n",
       " Pauli('ZYYZXXIZ'): 0.017,\n",
       " Pauli('YYZIIXXI'): 0.001,\n",
       " Pauli('YYZIZYYI'): 0.0038,\n",
       " Pauli('YXYZIIII'): 0.0122,\n",
       " Pauli('XZIIYYZI'): -0.5016,\n",
       " Pauli('XZIZXXIZ'): 0.62,\n",
       " Pauli('ZXZIIIII'): -0.0122,\n",
       " Pauli('IZXZYYZI'): -0.5016,\n",
       " Pauli('IZXIXXIZ'): 0.62,\n",
       " Pauli('YYXIYYXI'): 0.021,\n",
       " Pauli('YYXIXYYI'): -0.003,\n",
       " Pauli('XYYIXYYI'): -0.0086,\n",
       " Pauli('XYYIYYXI'): -0.0094,\n",
       " Pauli('ZXIZIXZI'): 0.0502,\n",
       " Pauli('ZXIIZXIZ'): 0.1338,\n",
       " Pauli('IXZZZXIZ'): 0.002,\n",
       " Pauli('IXZIIXZI'): 0.04,\n",
       " Pauli('IXZIYYXI'): 0.0042,\n",
       " Pauli('XYYZZXIZ'): 0.0032,\n",
       " Pauli('ZXIZYYXI'): 0.0204,\n",
       " Pauli('IXZIXYYI'): -0.0118,\n",
       " Pauli('ZXIZXYYI'): -0.0004,\n",
       " Pauli('XYYIIXZI'): 0.0024,\n",
       " Pauli('YYXIIXZI'): 0.05,\n",
       " Pauli('YYXZZXIZ'): 0.1204,\n",
       " Pauli('IIIIIXZI'): 0.4764,\n",
       " Pauli('IIIZZXIZ'): 0.0372,\n",
       " Pauli('IXZIIIII'): 0.0516,\n",
       " Pauli('ZXIZIIII'): 0.1006,\n",
       " Pauli('YZYZIIII'): -0.0266,\n",
       " Pauli('YZYIIIII'): -0.006,\n",
       " Pauli('IIIIYYXI'): 0.161,\n",
       " Pauli('IIIIXYYI'): 0.065,\n",
       " Pauli('XYYIIIII'): 0.0068,\n",
       " Pauli('YYXIIIII'): 0.0948,\n",
       " Pauli('IIIIIXII'): 1.0,\n",
       " Pauli('IIIZZXZZ'): 0.4042,\n",
       " Pauli('IZZZIXZI'): 0.85,\n",
       " Pauli('IZZIZXIZ'): 0.4138,\n",
       " Pauli('ZIIZZXIZ'): 0.4342,\n",
       " Pauli('ZIIIIXZI'): 0.8872,\n",
       " Pauli('IIIIZXZI'): 0.7292,\n",
       " Pauli('IIIZIXIZ'): 0.5454,\n",
       " Pauli('ZZIIIXZI'): 0.8332,\n",
       " Pauli('ZZIZZXIZ'): 0.4034,\n",
       " Pauli('IIZIIXZI'): 0.9088,\n",
       " Pauli('IIZZZXIZ'): 0.4454,\n",
       " Pauli('ZYYZIZXZ'): -0.2808,\n",
       " Pauli('ZYYIIIXI'): -0.2808,\n",
       " Pauli('IXXZIZXZ'): 0.2858,\n",
       " Pauli('IXXIIIXI'): 0.2858,\n",
       " Pauli('IXXIXIII'): 0.2858,\n",
       " Pauli('ZYYIXZII'): -0.2808,\n",
       " Pauli('IXXIXZII'): 0.2858,\n",
       " Pauli('ZYYIXIII'): -0.2808,\n",
       " Pauli('XXIZXIII'): 0.2858,\n",
       " Pauli('XXIZXZII'): 0.2858,\n",
       " Pauli('YYZIXIII'): -0.2808,\n",
       " Pauli('YYZIXZII'): -0.2808,\n",
       " Pauli('YYZIIIXI'): -0.2808,\n",
       " Pauli('XXIZIIXI'): 0.2858,\n",
       " Pauli('XXIIIZXZ'): 0.2858,\n",
       " Pauli('YYZZIZXZ'): -0.2808,\n",
       " Pauli('ZXIIIZZZ'): 0.0926,\n",
       " Pauli('IXZZIZZZ'): 0.0918,\n",
       " Pauli('YYXZIZZZ'): 0.0912,\n",
       " Pauli('XYYZIZZZ'): 0.0892,\n",
       " Pauli('IXZIZIII'): 0.8096,\n",
       " Pauli('ZXIZZIII'): 0.7952,\n",
       " Pauli('XYYIZIII'): 0.7562,\n",
       " Pauli('YYXIZIII'): 0.7458,\n",
       " Pauli('XYYIZZII'): 0.1564,\n",
       " Pauli('YYXIZZII'): 0.154,\n",
       " Pauli('XYYIIIZI'): 0.4472,\n",
       " Pauli('YYXIIIZI'): 0.442,\n",
       " Pauli('IXZIZZII'): 0.1718,\n",
       " Pauli('ZXIZZZII'): 0.1694,\n",
       " Pauli('IXZIIIZI'): 0.4794,\n",
       " Pauli('ZXIZIIZI'): 0.4714,\n",
       " Pauli('IIIIXXXI'): 1.0,\n",
       " Pauli('IIIIYXYI'): 0.7238,\n",
       " Pauli('IZZZYYXI'): 0.474,\n",
       " Pauli('IZZZXYYI'): 0.527,\n",
       " Pauli('ZIIIYYXI'): 0.4908,\n",
       " Pauli('ZIIIXYYI'): 0.549,\n",
       " Pauli('IIIZYXYZ'): 0.4174,\n",
       " Pauli('IIIZXXXZ'): 0.5628,\n",
       " Pauli('ZZIIYYXI'): 0.4628,\n",
       " Pauli('ZZIIXYYI'): 0.515,\n",
       " Pauli('IIZIYYXI'): 0.5006,\n",
       " Pauli('IIZIXYYI'): 0.5604}"
      ]
     },
     "execution_count": 23,
     "metadata": {},
     "output_type": "execute_result"
    }
   ],
   "source": [
    "from ht_grouper_helpers import HamiltonianExperiment\n",
    "\n",
    "experiment = HamiltonianExperiment(qc_prep, ht_grouping, ham)\n",
    "\n",
    "shots_per_circuit = 10000 # note that equal shot allocation is suboptimal --> https://doi.org/10.22331/q-2021-01-20-385\n",
    "job = experiment.simulate(shots=shots_per_circuit)\n",
    "\n",
    "experiment.evaluate(job)"
   ]
  },
  {
   "cell_type": "code",
   "execution_count": 10,
   "id": "5eb6de70",
   "metadata": {
    "scrolled": true
   },
   "outputs": [
    {
     "name": "stdout",
     "output_type": "stream",
     "text": [
      "Requirement already up-to-date: numpy in c:\\users\\danie\\.conda\\envs\\qiskit_env\\lib\\site-packages (1.24.3)\n"
     ]
    }
   ],
   "source": [
    "! pip install numpy --upgrade"
   ]
  },
  {
   "cell_type": "code",
   "execution_count": null,
   "id": "2f81205d",
   "metadata": {
    "scrolled": false
   },
   "outputs": [],
   "source": []
  },
  {
   "cell_type": "code",
   "execution_count": 11,
   "id": "7c65cddd",
   "metadata": {},
   "outputs": [],
   "source": [
    "from qiskit import execute, Aer"
   ]
  },
  {
   "cell_type": "code",
   "execution_count": 12,
   "id": "bd2d47ed",
   "metadata": {},
   "outputs": [
    {
     "data": {
      "text/plain": [
       "qiskit_aer.jobs.aerjob.AerJob"
      ]
     },
     "execution_count": 12,
     "metadata": {},
     "output_type": "execute_result"
    }
   ],
   "source": [
    "type(execute(qc_prep, backend=Aer.get_backend('qasm_simulator'), shots=2))"
   ]
  },
  {
   "cell_type": "code",
   "execution_count": null,
   "id": "9524765e",
   "metadata": {},
   "outputs": [],
   "source": []
  }
 ],
 "metadata": {
  "kernelspec": {
   "display_name": "Python 3 (ipykernel)",
   "language": "python",
   "name": "python3"
  },
  "language_info": {
   "codemirror_mode": {
    "name": "ipython",
    "version": 3
   },
   "file_extension": ".py",
   "mimetype": "text/x-python",
   "name": "python",
   "nbconvert_exporter": "python",
   "pygments_lexer": "ipython3",
   "version": "3.8.5"
  }
 },
 "nbformat": 4,
 "nbformat_minor": 5
}
